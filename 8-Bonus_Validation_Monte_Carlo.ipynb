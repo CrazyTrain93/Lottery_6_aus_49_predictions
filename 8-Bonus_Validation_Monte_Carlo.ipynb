{
 "cells": [
  {
   "cell_type": "markdown",
   "metadata": {},
   "source": [
    "# Bonus Notebook 8! Validate your Predictions after 1 Million Lotto Drawings\n",
    "## Monte Carlo Simulation for Validation of my Predicted Numbers\n",
    "- We will check how often Each Model would have won based on Simulating the Lotto 6 aus 49 Game\n",
    "- We even count how much \"Richtige\" or \"Treffer\" we have for each Model in Percent\n",
    "- You can only run this, if you have run all previous Notebooks and stored the Pickle Files at the End!"
   ]
  },
  {
   "cell_type": "code",
   "execution_count": 1,
   "metadata": {},
   "outputs": [],
   "source": [
    "# import libraries\n",
    "import random\n",
    "import pandas as pd\n",
    "import pickle"
   ]
  },
  {
   "cell_type": "markdown",
   "metadata": {},
   "source": [
    "## Load all the Pickle Files we Stored for our Models"
   ]
  },
  {
   "cell_type": "code",
   "execution_count": 2,
   "metadata": {},
   "outputs": [],
   "source": [
    "# Load the pickle files\n",
    "with open(\"stored_predictions/hot_numbers.pickle\", \"rb\") as f:\n",
    "    hot_numbers = pickle.load(f)\n",
    "\n",
    "with open(\"stored_predictions/cold_numbers.pickle\", \"rb\") as f:\n",
    "    cold_numbers = pickle.load(f)\n",
    "\n",
    "with open(\"stored_predictions/time_numbers.pickle\", \"rb\") as f:\n",
    "    long_time_no_see = pickle.load(f)\n",
    "\n",
    "with open(\"stored_predictions/monte_carlo.pickle\", \"rb\") as f:\n",
    "    monte_carlo = pickle.load(f)\n",
    "\n",
    "with open(\"stored_predictions/lstm_model.pickle\", \"rb\") as f:\n",
    "    lstm_model = pickle.load(f)\n",
    "\n",
    "with open(\"stored_predictions/random_forest.pickle\", \"rb\") as f:\n",
    "    random_forest = pickle.load(f)"
   ]
  },
  {
   "cell_type": "markdown",
   "metadata": {},
   "source": [
    "### Some Pickle Files i stored accidently as String or other Data Types, we will cast everything to a List"
   ]
  },
  {
   "cell_type": "code",
   "execution_count": 3,
   "metadata": {},
   "outputs": [
    {
     "data": {
      "text/plain": [
       "'14, 30, 22, 23, 42, 18'"
      ]
     },
     "execution_count": 3,
     "metadata": {},
     "output_type": "execute_result"
    }
   ],
   "source": [
    "long_time_no_see"
   ]
  },
  {
   "cell_type": "code",
   "execution_count": 4,
   "metadata": {},
   "outputs": [],
   "source": [
    "# For hot Numbers\n",
    "# Split the string by commas and convert the substrings to integers\n",
    "hot_numbers_list = [int(num) for num in hot_numbers.split(\",\")]\n",
    "\n",
    "# For Cold Numbers\n",
    "# Split the string by commas and convert the substrings to integers\n",
    "cold_numbers_list = [int(num) for num in cold_numbers.split(\",\")]\n",
    "\n",
    "# long time no see is in correct format\n",
    "long_time_list = [int(num) for num in long_time_no_see.split(\",\")]"
   ]
  },
  {
   "cell_type": "markdown",
   "metadata": {},
   "source": [
    "### Custom Function to evaluate our winning Chances with our Predicted Numbers\n",
    "- How often would we have won with our Predicted Numbers in 1 Million simulations? \n",
    "- We Compare our Predicted Number with Random Drawings\n",
    "- You could Say we make our own Lotto Drawing\n"
   ]
  },
  {
   "cell_type": "code",
   "execution_count": 5,
   "metadata": {},
   "outputs": [],
   "source": [
    "# Draw Random Numbers\n",
    "\n",
    "def draw_numbers():\n",
    "    return random.sample(range(50),6)\n",
    "\n",
    "# define the monte carlo simulation with 2 parameters\n",
    "\n",
    "def monte_carlo_simulation(gewinnzahlen, anzahl_simulationen):\n",
    "    treffer_statistik = {0:0, 1:0,2:0,3:0,4:0,5:0,6:0}\n",
    "\n",
    "    for _ in range(anzahl_simulationen):\n",
    "        gezogene_zahlen= draw_numbers()\n",
    "        treffer = len(set(gezogene_zahlen) & set(gewinnzahlen))\n",
    "        treffer_statistik[treffer] += 1\n",
    "\n",
    "    treffer_prozent = {treffer: (anzahl/ anzahl_simulationen) * 100 for treffer, anzahl in treffer_statistik.items()}\n",
    "\n",
    "    return treffer_prozent"
   ]
  },
  {
   "cell_type": "markdown",
   "metadata": {},
   "source": [
    "### Validate our Predictions"
   ]
  },
  {
   "cell_type": "markdown",
   "metadata": {},
   "source": [
    "### Copy your Predictions from the previous Notebooks into the Lists for Validation"
   ]
  },
  {
   "cell_type": "code",
   "execution_count": 6,
   "metadata": {},
   "outputs": [],
   "source": [
    "# Main Function\n",
    "\n",
    "def main():\n",
    "    anzahl_simulationen = 1000000\n",
    "\n",
    "    # Liste meiner Vorhersagen und Modelle\n",
    "\n",
    "    # Copy in your Predictions from the Previous Notebook here to \"validate\" them somehow\n",
    "    modelle = {\n",
    "        \"Hot Numbers\": hot_numbers_list, # Hot Numbers Predictions\n",
    "        \"Cold Numbers\": cold_numbers_list, # Cold Numbers Predictions\n",
    "        \"Long Time no see\": long_time_list, # Long time no see Predictions\n",
    "        \"Monte Carlo Random\": monte_carlo, # Monte Carlo Random Prediction\n",
    "        \"LSTM-Model\": lstm_model, # Long Short Term Memory Model\n",
    "        \"Random-Forest\": random_forest, # Random Forest Model\n",
    "\n",
    "    }\n",
    "\n",
    "    for modell, vorhersage in modelle.items():\n",
    "        treffer_prozent = monte_carlo_simulation(vorhersage, anzahl_simulationen)\n",
    "\n",
    "        print(f\"\\nTrefferstatistik für {modell} nach {anzahl_simulationen} Simulationen:\")\n",
    "        for treffer, prozent in treffer_prozent.items():\n",
    "            print(f\"{treffer} Richtige: {prozent:.4f}% \")"
   ]
  },
  {
   "cell_type": "markdown",
   "metadata": {},
   "source": [
    "## Bonus! Validate our Predictions after 1 Million Lottozahlen Drawings! How often would we have won?"
   ]
  },
  {
   "cell_type": "code",
   "execution_count": 7,
   "metadata": {},
   "outputs": [
    {
     "name": "stdout",
     "output_type": "stream",
     "text": [
      "\n",
      "Trefferstatistik für Hot Numbers nach 1000000 Simulationen:\n",
      "0 Richtige: 44.4391% \n",
      "1 Richtige: 40.9928% \n",
      "2 Richtige: 12.7934% \n",
      "3 Richtige: 1.6786% \n",
      "4 Richtige: 0.0945% \n",
      "5 Richtige: 0.0016% \n",
      "6 Richtige: 0.0000% \n",
      "\n",
      "Trefferstatistik für Cold Numbers nach 1000000 Simulationen:\n",
      "0 Richtige: 44.3838% \n",
      "1 Richtige: 40.9976% \n",
      "2 Richtige: 12.8544% \n",
      "3 Richtige: 1.6779% \n",
      "4 Richtige: 0.0841% \n",
      "5 Richtige: 0.0022% \n",
      "6 Richtige: 0.0000% \n",
      "\n",
      "Trefferstatistik für Long Time no see nach 1000000 Simulationen:\n",
      "0 Richtige: 44.4399% \n",
      "1 Richtige: 40.9727% \n",
      "2 Richtige: 12.8239% \n",
      "3 Richtige: 1.6681% \n",
      "4 Richtige: 0.0936% \n",
      "5 Richtige: 0.0018% \n",
      "6 Richtige: 0.0000% \n",
      "\n",
      "Trefferstatistik für Monte Carlo Random nach 1000000 Simulationen:\n",
      "0 Richtige: 44.4112% \n",
      "1 Richtige: 41.0047% \n",
      "2 Richtige: 12.8141% \n",
      "3 Richtige: 1.6760% \n",
      "4 Richtige: 0.0922% \n",
      "5 Richtige: 0.0018% \n",
      "6 Richtige: 0.0000% \n",
      "\n",
      "Trefferstatistik für LSTM-Model nach 1000000 Simulationen:\n",
      "0 Richtige: 44.4580% \n",
      "1 Richtige: 40.9607% \n",
      "2 Richtige: 12.8058% \n",
      "3 Richtige: 1.6830% \n",
      "4 Richtige: 0.0909% \n",
      "5 Richtige: 0.0016% \n",
      "6 Richtige: 0.0000% \n",
      "\n",
      "Trefferstatistik für Random-Forest nach 1000000 Simulationen:\n",
      "0 Richtige: 44.3650% \n",
      "1 Richtige: 41.0539% \n",
      "2 Richtige: 12.8206% \n",
      "3 Richtige: 1.6713% \n",
      "4 Richtige: 0.0877% \n",
      "5 Richtige: 0.0015% \n",
      "6 Richtige: 0.0000% \n"
     ]
    }
   ],
   "source": [
    "if __name__ == \"__main__\":\n",
    "    main()"
   ]
  },
  {
   "cell_type": "markdown",
   "metadata": {},
   "source": [
    "# Thanks for Reviewing my Lottery Prediction Notebook! I hope you had fun and got inspired how a real IT-Nerd is playing Lotto :)\n",
    "### Leave a Like and hit me up, if you have further Questions"
   ]
  }
 ],
 "metadata": {
  "kernelspec": {
   "display_name": ".venv",
   "language": "python",
   "name": "python3"
  },
  "language_info": {
   "codemirror_mode": {
    "name": "ipython",
    "version": 3
   },
   "file_extension": ".py",
   "mimetype": "text/x-python",
   "name": "python",
   "nbconvert_exporter": "python",
   "pygments_lexer": "ipython3",
   "version": "3.11.0rc2"
  }
 },
 "nbformat": 4,
 "nbformat_minor": 2
}
