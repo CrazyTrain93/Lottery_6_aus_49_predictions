{
 "cells": [
  {
   "cell_type": "markdown",
   "metadata": {},
   "source": [
    "# Welcome to the Data Generation Notebook\n",
    "\n",
    "### Run this Notebook to Store CSV's - Which will be later used by the Models\n",
    "Statistical Analysis and Machine Learning Models used for Predictions (see Notebooks)\n",
    "1. Hot Numbers Frequency Analysis (most drawn)\n",
    "2. Cold Numbers Frequency Analysis (least drawn)\n",
    "3. Numbers Longest not drawn (bases on date of drawing they last appeared)\n",
    "4. Monte Carlo Simulation (just random fun for me, 2 Lotto Simulations run against each other till they match)\n",
    "5. LSTM-Model - Long-Short-Term-Memory Model (recurrent neural network (RNN))\n",
    "6. Random Forest Model - Machine Learning Model"
   ]
  },
  {
   "cell_type": "markdown",
   "metadata": {},
   "source": [
    "# Data Collection and CSV Creation + Cleaning"
   ]
  },
  {
   "cell_type": "code",
   "execution_count": 7,
   "metadata": {},
   "outputs": [],
   "source": [
    "# Import Libraries needed\n",
    "import pandas as pd\n",
    "import matplotlib.pyplot as plt\n"
   ]
  },
  {
   "cell_type": "markdown",
   "metadata": {},
   "source": [
    "### Get the Data from Johannesfriedrich on Github! Thanks for Providing them in JSON Format and always refresh the Set \n",
    "\n",
    "- There are 2 Version of the Data you can get i will load data_json and do my own Data Cleaning and EDA\n",
    "- The first Version seems not to have the \"Superzahl\" thats why i clean and Shape the Data by myself\n",
    "\n",
    "Special Thanks for Scraping and providing always the newest Numbers for us. Check out his Github! https://github.com/JohannesFriedrich"
   ]
  },
  {
   "cell_type": "code",
   "execution_count": 8,
   "metadata": {},
   "outputs": [],
   "source": [
    "# get the Lotto Numbers from the JSON Files in the github repository\n",
    "data_json_1 = \"https://johannesfriedrich.github.io/LottoNumberArchive/Lottonumbers_tidy_complete.json\"\n",
    "data_json = \"https://johannesfriedrich.github.io/LottoNumberArchive/Lottonumbers_complete.json\""
   ]
  },
  {
   "cell_type": "code",
   "execution_count": 9,
   "metadata": {},
   "outputs": [],
   "source": [
    "\n",
    "# read in the json file from the provided URL\n",
    "df = pd.read_json(data_json)"
   ]
  },
  {
   "cell_type": "markdown",
   "metadata": {},
   "source": [
    "### Normalize the data because only 1 column \"data\" which holds dictionaries"
   ]
  },
  {
   "cell_type": "code",
   "execution_count": 10,
   "metadata": {},
   "outputs": [],
   "source": [
    "# normalize the json file into columns\n",
    "\n",
    "df = pd.json_normalize(df['data'])"
   ]
  },
  {
   "cell_type": "markdown",
   "metadata": {},
   "source": [
    "### Superzahl was Introduced in the 2000's so i will make a 2nd Dataframe only with drawings which contained the Superzahl"
   ]
  },
  {
   "cell_type": "code",
   "execution_count": 11,
   "metadata": {},
   "outputs": [],
   "source": [
    "df_superzahl = df.dropna(subset=[\"Superzahl\"])\n"
   ]
  },
  {
   "cell_type": "markdown",
   "metadata": {},
   "source": [
    "### Write the Data into a CSV called frequency_data and Store 1 CSV named superzahl\n"
   ]
  },
  {
   "cell_type": "code",
   "execution_count": 12,
   "metadata": {},
   "outputs": [],
   "source": [
    "# Write the DataFrames to CSV files\n",
    "df.to_csv('data/frequency_data.csv', index=False)\n",
    "df_superzahl.to_csv('data/superzahl_data.csv', index=False)"
   ]
  },
  {
   "cell_type": "markdown",
   "metadata": {},
   "source": [
    "# Continue with the Next Notebook for the first Predictions!\n",
    "\n",
    "If you are only interested in 1 Method to Forecast Numbers you can directly skip to this one "
   ]
  }
 ],
 "metadata": {
  "kernelspec": {
   "display_name": "myenv",
   "language": "python",
   "name": "python3"
  },
  "language_info": {
   "codemirror_mode": {
    "name": "ipython",
    "version": 3
   },
   "file_extension": ".py",
   "mimetype": "text/x-python",
   "name": "python",
   "nbconvert_exporter": "python",
   "pygments_lexer": "ipython3",
   "version": "3.11.0rc2"
  }
 },
 "nbformat": 4,
 "nbformat_minor": 2
}
