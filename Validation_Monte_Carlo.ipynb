{
 "cells": [
  {
   "cell_type": "markdown",
   "metadata": {},
   "source": [
    "# Monte Carlo Simulation for Validation of my Predicted Numbers"
   ]
  },
  {
   "cell_type": "markdown",
   "metadata": {},
   "source": []
  },
  {
   "cell_type": "code",
   "execution_count": 38,
   "metadata": {},
   "outputs": [],
   "source": [
    "# import libraries\n",
    "import random\n",
    "import pandas as pd"
   ]
  },
  {
   "cell_type": "markdown",
   "metadata": {},
   "source": [
    "### Define some functions we want to use\n"
   ]
  },
  {
   "cell_type": "code",
   "execution_count": 37,
   "metadata": {},
   "outputs": [],
   "source": [
    "# Draw Random Numbers\n",
    "\n",
    "def draw_numbers():\n",
    "    return random.sample(range(50),6)\n",
    "\n",
    "# define the monte carlo simulation with 2 parameters\n",
    "\n",
    "def monte_carlo_simulation(gewinnzahlen, anzahl_simulationen):\n",
    "    treffer_statistik = {0:0, 1:0,2:0,3:0,4:0,5:0,6:0}\n",
    "\n",
    "    for _ in range(anzahl_simulationen):\n",
    "        gezogene_zahlen= draw_numbers()\n",
    "        treffer = len(set(gezogene_zahlen) & set(gewinnzahlen))\n",
    "        treffer_statistik[treffer] += 1\n",
    "\n",
    "    treffer_prozent = {treffer: (anzahl/ anzahl_simulationen) * 100 for treffer, anzahl in treffer_statistik.items()}\n",
    "\n",
    "    return treffer_prozent"
   ]
  },
  {
   "cell_type": "markdown",
   "metadata": {},
   "source": [
    "### Validate our Predictions"
   ]
  },
  {
   "cell_type": "markdown",
   "metadata": {},
   "source": []
  },
  {
   "cell_type": "code",
   "execution_count": 35,
   "metadata": {},
   "outputs": [],
   "source": [
    "def main():\n",
    "    anzahl_simulationen = 1000000\n",
    "    gewinnzahlen = []\n",
    "\n",
    "    # Liste meiner Vorhersagen und Modelle\n",
    "    modelle = {\n",
    "        \"Hot Numbers\": [ 6, 49, 32, 33, 31, 26], # Hot Numbers Predictions\n",
    "        \"Cold Numbers\": [13, 45, 8, 21, 28, 12], # Cold Numbers Predictions\n",
    "        \"Long Time no see\": [12, 14, 15, 46, 30, 22], # Long time no see Predictions\n",
    "        \"Monte Carlo Random\": [11, 33, 47, 23, 43, 30], # Monte Carlo Random Prediction\n",
    "\n",
    "    }\n",
    "\n",
    "    for modell, vorhersage in modelle.items():\n",
    "        treffer_prozent = monte_carlo_simulation(vorhersage, anzahl_simulationen)\n",
    "\n",
    "        print(f\"Trefferstatistik für {modell} nach {anzahl_simulationen} Simulationen:\")\n",
    "        for treffer, prozent in treffer_prozent.items():\n",
    "            print(f\"{treffer} Richtige: {prozent:.4f}%\")"
   ]
  },
  {
   "cell_type": "code",
   "execution_count": 39,
   "metadata": {},
   "outputs": [
    {
     "name": "stdout",
     "output_type": "stream",
     "text": [
      "Trefferstatistik für Hot Numbers nach 1000000 Simulationen:\n",
      "0 Richtige: 44.3962%\n",
      "1 Richtige: 40.9942%\n",
      "2 Richtige: 12.8540%\n",
      "3 Richtige: 1.6621%\n",
      "4 Richtige: 0.0921%\n",
      "5 Richtige: 0.0014%\n",
      "6 Richtige: 0.0000%\n",
      "Trefferstatistik für Cold Numbers nach 1000000 Simulationen:\n",
      "0 Richtige: 44.3633%\n",
      "1 Richtige: 41.0657%\n",
      "2 Richtige: 12.8219%\n",
      "3 Richtige: 1.6516%\n",
      "4 Richtige: 0.0961%\n",
      "5 Richtige: 0.0014%\n",
      "6 Richtige: 0.0000%\n",
      "Trefferstatistik für Long Time no see nach 1000000 Simulationen:\n",
      "0 Richtige: 44.4999%\n",
      "1 Richtige: 40.9275%\n",
      "2 Richtige: 12.8063%\n",
      "3 Richtige: 1.6750%\n",
      "4 Richtige: 0.0895%\n",
      "5 Richtige: 0.0018%\n",
      "6 Richtige: 0.0000%\n",
      "Trefferstatistik für Monte Carlo Random nach 1000000 Simulationen:\n",
      "0 Richtige: 44.3926%\n",
      "1 Richtige: 41.0618%\n",
      "2 Richtige: 12.8037%\n",
      "3 Richtige: 1.6514%\n",
      "4 Richtige: 0.0886%\n",
      "5 Richtige: 0.0019%\n",
      "6 Richtige: 0.0000%\n"
     ]
    }
   ],
   "source": [
    "if __name__ == \"__main__\":\n",
    "    main()"
   ]
  },
  {
   "cell_type": "code",
   "execution_count": null,
   "metadata": {},
   "outputs": [],
   "source": []
  }
 ],
 "metadata": {
  "kernelspec": {
   "display_name": ".venv",
   "language": "python",
   "name": "python3"
  },
  "language_info": {
   "codemirror_mode": {
    "name": "ipython",
    "version": 3
   },
   "file_extension": ".py",
   "mimetype": "text/x-python",
   "name": "python",
   "nbconvert_exporter": "python",
   "pygments_lexer": "ipython3",
   "version": "3.11.0rc2"
  }
 },
 "nbformat": 4,
 "nbformat_minor": 2
}
