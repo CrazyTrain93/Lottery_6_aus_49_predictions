{
 "cells": [
  {
   "cell_type": "markdown",
   "metadata": {},
   "source": [
    "## 6. Prediction - Long-Short Term Memory Model"
   ]
  },
  {
   "cell_type": "markdown",
   "metadata": {},
   "source": [
    "### About this Method and the assumption we have behind it:\n",
    "- LSTM Model is a type of recurrent neural networks (RNN)\n",
    "- designed to handle sequence precition problems, particularly those with long-range dependencies. \n",
    "- This is a supervised Learning Approach to predict Numbers\n",
    "\n",
    "\n",
    "If you want to learn more about Recurrent Neural Networks visit aws Documentation - https://aws.amazon.com/de/what-is/recurrent-neural-network/\n",
    "\n",
    "The Solution here somehow goes from 6 or 7 in 7 or 8 steps onwards.. i suggest this lies on the randomness in all the data, that the number which the model picks seem to be nearly distributed\n",
    "and to have the least mean squared error (which is obviously a result which is distributed across the numbers 0-49 evenly)\n",
    "\n",
    "if i had the Lotto Numbers in unsorted Form (lotto homepage and everyone sorts them after Drawing) this approach to predict Numbers with would be more powerful \n"
   ]
  },
  {
   "cell_type": "code",
   "execution_count": 65,
   "metadata": {},
   "outputs": [],
   "source": [
    "# Import Libraries needed\n",
    "import pandas as pd\n",
    "import matplotlib.pyplot as plt\n",
    "import numpy as np\n",
    "from sklearn.preprocessing import MinMaxScaler\n",
    "from keras.models import Sequential\n",
    "from keras.layers import LSTM, Dense\n",
    "from sklearn.model_selection import train_test_split\n",
    "from keras.layers import Dropout\n",
    "from keras.layers import Input\n",
    "from keras.callbacks import EarlyStopping\n",
    "import pickle\n",
    "\n",
    "plt.style.use('https://github.com/dhaitz/matplotlib-stylesheets/raw/master/pitayasmoothie-dark.mplstyle')"
   ]
  },
  {
   "cell_type": "markdown",
   "metadata": {},
   "source": [
    "### Load the Data we Stored in the data Folder with Notebook 1"
   ]
  },
  {
   "cell_type": "code",
   "execution_count": 66,
   "metadata": {},
   "outputs": [],
   "source": [
    "\n",
    "# Load the CSV file into a DataFrame\n",
    "frequency_data = pd.read_csv(\"data/frequency_data.csv\")\n"
   ]
  },
  {
   "cell_type": "markdown",
   "metadata": {},
   "source": [
    "### Convert date from String to Datetime for Evaluation\n",
    "And further Data Processing for our needs"
   ]
  },
  {
   "cell_type": "markdown",
   "metadata": {},
   "source": [
    "### Here we Preprocess the Features different than in any other Notebook to make it work for LSTM-Models"
   ]
  },
  {
   "cell_type": "code",
   "execution_count": 67,
   "metadata": {},
   "outputs": [
    {
     "data": {
      "text/html": [
       "<div>\n",
       "<style scoped>\n",
       "    .dataframe tbody tr th:only-of-type {\n",
       "        vertical-align: middle;\n",
       "    }\n",
       "\n",
       "    .dataframe tbody tr th {\n",
       "        vertical-align: top;\n",
       "    }\n",
       "\n",
       "    .dataframe thead th {\n",
       "        text-align: right;\n",
       "    }\n",
       "</style>\n",
       "<table border=\"1\" class=\"dataframe\">\n",
       "  <thead>\n",
       "    <tr style=\"text-align: right;\">\n",
       "      <th></th>\n",
       "      <th>Lottozahl_1</th>\n",
       "      <th>Lottozahl_2</th>\n",
       "      <th>Lottozahl_3</th>\n",
       "      <th>Lottozahl_4</th>\n",
       "      <th>Lottozahl_5</th>\n",
       "      <th>Lottozahl_6</th>\n",
       "      <th>day</th>\n",
       "      <th>month</th>\n",
       "      <th>year</th>\n",
       "    </tr>\n",
       "  </thead>\n",
       "  <tbody>\n",
       "    <tr>\n",
       "      <th>0</th>\n",
       "      <td>3</td>\n",
       "      <td>12</td>\n",
       "      <td>13</td>\n",
       "      <td>16</td>\n",
       "      <td>23</td>\n",
       "      <td>41</td>\n",
       "      <td>9</td>\n",
       "      <td>10</td>\n",
       "      <td>1955</td>\n",
       "    </tr>\n",
       "    <tr>\n",
       "      <th>1</th>\n",
       "      <td>3</td>\n",
       "      <td>12</td>\n",
       "      <td>18</td>\n",
       "      <td>30</td>\n",
       "      <td>32</td>\n",
       "      <td>49</td>\n",
       "      <td>16</td>\n",
       "      <td>10</td>\n",
       "      <td>1955</td>\n",
       "    </tr>\n",
       "    <tr>\n",
       "      <th>2</th>\n",
       "      <td>12</td>\n",
       "      <td>14</td>\n",
       "      <td>23</td>\n",
       "      <td>24</td>\n",
       "      <td>34</td>\n",
       "      <td>36</td>\n",
       "      <td>23</td>\n",
       "      <td>10</td>\n",
       "      <td>1955</td>\n",
       "    </tr>\n",
       "    <tr>\n",
       "      <th>3</th>\n",
       "      <td>4</td>\n",
       "      <td>13</td>\n",
       "      <td>23</td>\n",
       "      <td>30</td>\n",
       "      <td>36</td>\n",
       "      <td>44</td>\n",
       "      <td>30</td>\n",
       "      <td>10</td>\n",
       "      <td>1955</td>\n",
       "    </tr>\n",
       "    <tr>\n",
       "      <th>4</th>\n",
       "      <td>5</td>\n",
       "      <td>6</td>\n",
       "      <td>31</td>\n",
       "      <td>39</td>\n",
       "      <td>44</td>\n",
       "      <td>49</td>\n",
       "      <td>6</td>\n",
       "      <td>11</td>\n",
       "      <td>1955</td>\n",
       "    </tr>\n",
       "  </tbody>\n",
       "</table>\n",
       "</div>"
      ],
      "text/plain": [
       "   Lottozahl_1  Lottozahl_2  Lottozahl_3  Lottozahl_4  Lottozahl_5  \\\n",
       "0            3           12           13           16           23   \n",
       "1            3           12           18           30           32   \n",
       "2           12           14           23           24           34   \n",
       "3            4           13           23           30           36   \n",
       "4            5            6           31           39           44   \n",
       "\n",
       "   Lottozahl_6  day  month  year  \n",
       "0           41    9     10  1955  \n",
       "1           49   16     10  1955  \n",
       "2           36   23     10  1955  \n",
       "3           44   30     10  1955  \n",
       "4           49    6     11  1955  "
      ]
     },
     "execution_count": 67,
     "metadata": {},
     "output_type": "execute_result"
    }
   ],
   "source": [
    "# convert the string to datetime\n",
    "frequency_data[\"date\"] = pd.to_datetime(frequency_data[\"date\"], format='%d.%m.%Y')\n",
    "\n",
    "# Convert the Lottozahl column to a list of integers\n",
    "frequency_data[\"Lottozahl\"] = frequency_data[\"Lottozahl\"].apply(lambda x: eval(x))\n",
    "\n",
    "# Expand the Lottozahl column into seperate columns\n",
    "df_expanded = pd.DataFrame(frequency_data[\"Lottozahl\"].tolist(), columns=['Lottozahl_1', 'Lottozahl_2', 'Lottozahl_3', 'Lottozahl_4', 'Lottozahl_5', 'Lottozahl_6'])\n",
    "\n",
    "# Create the final Dataframe\n",
    "df_final = pd.concat([frequency_data.drop(columns= \"Lottozahl\"), df_expanded], axis=1)\n",
    "\n",
    "\n",
    "# Cast the Date into own columns\n",
    "df_final[\"day\"] = df_final[\"date\"].dt.day\n",
    "df_final[\"month\"] = df_final[\"date\"].dt.month\n",
    "df_final[\"year\"] = df_final[\"date\"].dt.year\n",
    "\n",
    "# Drop the Superzahl Column (we only Predict the 6 Lotto Numbers)\n",
    "df_final.drop([\"Superzahl\", \"id\",\"date\"], axis=1, inplace=True)\n",
    "\n",
    "df_final.head()"
   ]
  },
  {
   "cell_type": "markdown",
   "metadata": {},
   "source": [
    "### Scale the Features for the LSTM Model \n",
    "- we will use a MinMax Scaler here and restrict the range from 0-1 due to we have only positive values"
   ]
  },
  {
   "cell_type": "code",
   "execution_count": 68,
   "metadata": {},
   "outputs": [],
   "source": [
    "# cast dataframe to array\n",
    "dataset = df_final.values"
   ]
  },
  {
   "cell_type": "code",
   "execution_count": 69,
   "metadata": {},
   "outputs": [],
   "source": [
    "X = dataset[:, 6:]  # Input features:  date components\n",
    "y = dataset[:, :6]  # Output labels: Future lottery numbers"
   ]
  },
  {
   "cell_type": "code",
   "execution_count": 70,
   "metadata": {},
   "outputs": [],
   "source": [
    "# use scaler to get the feature space closer\n",
    "scaler = MinMaxScaler()\n",
    "X_scaled = scaler.fit_transform(X)"
   ]
  },
  {
   "cell_type": "markdown",
   "metadata": {},
   "source": [
    "### Train Test Split for the Model"
   ]
  },
  {
   "cell_type": "code",
   "execution_count": 71,
   "metadata": {},
   "outputs": [],
   "source": [
    "X_train, X_test, y_train, y_test = train_test_split(X_scaled, y, test_size = 0.2)"
   ]
  },
  {
   "cell_type": "code",
   "execution_count": 72,
   "metadata": {},
   "outputs": [],
   "source": [
    "# set the time Step which the LSTM Model remembers in short term memory\n",
    "time_step = 1"
   ]
  },
  {
   "cell_type": "markdown",
   "metadata": {},
   "source": [
    "### Shape the Date in the right Input Format for the LSTM Model"
   ]
  },
  {
   "cell_type": "code",
   "execution_count": 73,
   "metadata": {},
   "outputs": [],
   "source": [
    "# Reshape input data for LSTM (samples, time steps, features)\n",
    "X_train = X_train.reshape(X_train.shape[0], time_step, X_train.shape[1])\n",
    "X_test = X_test.reshape((X_test.shape[0], time_step, X_test.shape[1]))"
   ]
  },
  {
   "cell_type": "markdown",
   "metadata": {},
   "source": [
    "### Build the LSTM Model\n",
    "- i add 1 Input layer with 3 values per row for the date\n",
    "- 1 LSTM Layer with 50 Neurons\n",
    "- 1 Dropout Layer 20% to prevent overfitting ;) \n",
    "- 1 Dense Layer as output layer for the next sequence of lottery numbers"
   ]
  },
  {
   "cell_type": "code",
   "execution_count": 74,
   "metadata": {},
   "outputs": [],
   "source": [
    "# Define the LSTM model with additional Dense layer\n",
    "model = Sequential()\n",
    "model.add(Input(shape=(1, 3)))  # Input layer with the specified shape\n",
    "model.add(LSTM(50, return_sequences=True))  # First LSTM layer\n",
    "model.add(Dense(12))  # Dense layer with 12 neurons\n",
    "model.add(Dropout(0.2))  # Dropout layer to prevent overfitting\n",
    "model.add(LSTM(50, return_sequences=True))  # Second LSTM layer\n",
    "model.add(Dropout(0.2))  # Dropout layer to prevent overfitting\n",
    "model.add(Dense(6))  # Output layer with 6 neurons for the next sequence of lottery numbers"
   ]
  },
  {
   "cell_type": "markdown",
   "metadata": {},
   "source": [
    "### Implement early stopping so we can increase the Epochs and don't miss out additional MSE loss"
   ]
  },
  {
   "cell_type": "code",
   "execution_count": 75,
   "metadata": {},
   "outputs": [],
   "source": [
    "# this stops the model earlier if it already learned enough\n",
    "early_stopping = EarlyStopping(monitor=\"val_loss\", patience=5, verbose=0,restore_best_weights=True)"
   ]
  },
  {
   "cell_type": "code",
   "execution_count": 76,
   "metadata": {},
   "outputs": [],
   "source": [
    "# compile the model\n",
    "model.compile(optimizer=\"adam\", loss=\"mse\")"
   ]
  },
  {
   "cell_type": "markdown",
   "metadata": {},
   "source": [
    "# Train the Model"
   ]
  },
  {
   "cell_type": "code",
   "execution_count": 77,
   "metadata": {},
   "outputs": [
    {
     "name": "stdout",
     "output_type": "stream",
     "text": [
      "Epoch 1/1000\n"
     ]
    },
    {
     "name": "stdout",
     "output_type": "stream",
     "text": [
      "\u001b[1m60/60\u001b[0m \u001b[32m━━━━━━━━━━━━━━━━━━━━\u001b[0m\u001b[37m\u001b[0m \u001b[1m3s\u001b[0m 6ms/step - loss: 820.6603 - val_loss: 774.3535\n",
      "Epoch 2/1000\n",
      "\u001b[1m60/60\u001b[0m \u001b[32m━━━━━━━━━━━━━━━━━━━━\u001b[0m\u001b[37m\u001b[0m \u001b[1m0s\u001b[0m 3ms/step - loss: 692.7896 - val_loss: 460.8649\n",
      "Epoch 3/1000\n",
      "\u001b[1m60/60\u001b[0m \u001b[32m━━━━━━━━━━━━━━━━━━━━\u001b[0m\u001b[37m\u001b[0m \u001b[1m0s\u001b[0m 2ms/step - loss: 423.1060 - val_loss: 343.4283\n",
      "Epoch 4/1000\n",
      "\u001b[1m60/60\u001b[0m \u001b[32m━━━━━━━━━━━━━━━━━━━━\u001b[0m\u001b[37m\u001b[0m \u001b[1m0s\u001b[0m 2ms/step - loss: 325.0404 - val_loss: 274.4762\n",
      "Epoch 5/1000\n",
      "\u001b[1m60/60\u001b[0m \u001b[32m━━━━━━━━━━━━━━━━━━━━\u001b[0m\u001b[37m\u001b[0m \u001b[1m0s\u001b[0m 2ms/step - loss: 260.2052 - val_loss: 224.4472\n",
      "Epoch 6/1000\n",
      "\u001b[1m60/60\u001b[0m \u001b[32m━━━━━━━━━━━━━━━━━━━━\u001b[0m\u001b[37m\u001b[0m \u001b[1m0s\u001b[0m 2ms/step - loss: 217.6615 - val_loss: 185.9488\n",
      "Epoch 7/1000\n",
      "\u001b[1m60/60\u001b[0m \u001b[32m━━━━━━━━━━━━━━━━━━━━\u001b[0m\u001b[37m\u001b[0m \u001b[1m0s\u001b[0m 2ms/step - loss: 178.4305 - val_loss: 155.8623\n",
      "Epoch 8/1000\n",
      "\u001b[1m60/60\u001b[0m \u001b[32m━━━━━━━━━━━━━━━━━━━━\u001b[0m\u001b[37m\u001b[0m \u001b[1m0s\u001b[0m 3ms/step - loss: 150.8862 - val_loss: 132.1392\n",
      "Epoch 9/1000\n",
      "\u001b[1m60/60\u001b[0m \u001b[32m━━━━━━━━━━━━━━━━━━━━\u001b[0m\u001b[37m\u001b[0m \u001b[1m0s\u001b[0m 2ms/step - loss: 128.4939 - val_loss: 113.4288\n",
      "Epoch 10/1000\n",
      "\u001b[1m60/60\u001b[0m \u001b[32m━━━━━━━━━━━━━━━━━━━━\u001b[0m\u001b[37m\u001b[0m \u001b[1m0s\u001b[0m 3ms/step - loss: 111.2667 - val_loss: 98.6209\n",
      "Epoch 11/1000\n",
      "\u001b[1m60/60\u001b[0m \u001b[32m━━━━━━━━━━━━━━━━━━━━\u001b[0m\u001b[37m\u001b[0m \u001b[1m0s\u001b[0m 2ms/step - loss: 97.7516 - val_loss: 87.1299\n",
      "Epoch 12/1000\n",
      "\u001b[1m60/60\u001b[0m \u001b[32m━━━━━━━━━━━━━━━━━━━━\u001b[0m\u001b[37m\u001b[0m \u001b[1m0s\u001b[0m 3ms/step - loss: 86.0983 - val_loss: 78.1679\n",
      "Epoch 13/1000\n",
      "\u001b[1m60/60\u001b[0m \u001b[32m━━━━━━━━━━━━━━━━━━━━\u001b[0m\u001b[37m\u001b[0m \u001b[1m0s\u001b[0m 3ms/step - loss: 78.5073 - val_loss: 71.1227\n",
      "Epoch 14/1000\n",
      "\u001b[1m60/60\u001b[0m \u001b[32m━━━━━━━━━━━━━━━━━━━━\u001b[0m\u001b[37m\u001b[0m \u001b[1m0s\u001b[0m 3ms/step - loss: 74.1486 - val_loss: 65.7421\n",
      "Epoch 15/1000\n",
      "\u001b[1m60/60\u001b[0m \u001b[32m━━━━━━━━━━━━━━━━━━━━\u001b[0m\u001b[37m\u001b[0m \u001b[1m0s\u001b[0m 3ms/step - loss: 68.3728 - val_loss: 61.7127\n",
      "Epoch 16/1000\n",
      "\u001b[1m60/60\u001b[0m \u001b[32m━━━━━━━━━━━━━━━━━━━━\u001b[0m\u001b[37m\u001b[0m \u001b[1m0s\u001b[0m 2ms/step - loss: 65.0173 - val_loss: 58.6687\n",
      "Epoch 17/1000\n",
      "\u001b[1m60/60\u001b[0m \u001b[32m━━━━━━━━━━━━━━━━━━━━\u001b[0m\u001b[37m\u001b[0m \u001b[1m0s\u001b[0m 2ms/step - loss: 62.3805 - val_loss: 56.3453\n",
      "Epoch 18/1000\n",
      "\u001b[1m60/60\u001b[0m \u001b[32m━━━━━━━━━━━━━━━━━━━━\u001b[0m\u001b[37m\u001b[0m \u001b[1m0s\u001b[0m 3ms/step - loss: 59.4306 - val_loss: 54.6655\n",
      "Epoch 19/1000\n",
      "\u001b[1m60/60\u001b[0m \u001b[32m━━━━━━━━━━━━━━━━━━━━\u001b[0m\u001b[37m\u001b[0m \u001b[1m0s\u001b[0m 2ms/step - loss: 59.9183 - val_loss: 53.3933\n",
      "Epoch 20/1000\n",
      "\u001b[1m60/60\u001b[0m \u001b[32m━━━━━━━━━━━━━━━━━━━━\u001b[0m\u001b[37m\u001b[0m \u001b[1m0s\u001b[0m 2ms/step - loss: 56.9083 - val_loss: 52.4482\n",
      "Epoch 21/1000\n",
      "\u001b[1m60/60\u001b[0m \u001b[32m━━━━━━━━━━━━━━━━━━━━\u001b[0m\u001b[37m\u001b[0m \u001b[1m0s\u001b[0m 3ms/step - loss: 56.0296 - val_loss: 51.7960\n",
      "Epoch 22/1000\n",
      "\u001b[1m60/60\u001b[0m \u001b[32m━━━━━━━━━━━━━━━━━━━━\u001b[0m\u001b[37m\u001b[0m \u001b[1m0s\u001b[0m 3ms/step - loss: 56.4650 - val_loss: 51.3395\n",
      "Epoch 23/1000\n",
      "\u001b[1m60/60\u001b[0m \u001b[32m━━━━━━━━━━━━━━━━━━━━\u001b[0m\u001b[37m\u001b[0m \u001b[1m0s\u001b[0m 2ms/step - loss: 56.0697 - val_loss: 50.9941\n",
      "Epoch 24/1000\n",
      "\u001b[1m60/60\u001b[0m \u001b[32m━━━━━━━━━━━━━━━━━━━━\u001b[0m\u001b[37m\u001b[0m \u001b[1m0s\u001b[0m 2ms/step - loss: 55.4935 - val_loss: 50.7639\n",
      "Epoch 25/1000\n",
      "\u001b[1m60/60\u001b[0m \u001b[32m━━━━━━━━━━━━━━━━━━━━\u001b[0m\u001b[37m\u001b[0m \u001b[1m0s\u001b[0m 2ms/step - loss: 54.9172 - val_loss: 50.6005\n",
      "Epoch 26/1000\n",
      "\u001b[1m60/60\u001b[0m \u001b[32m━━━━━━━━━━━━━━━━━━━━\u001b[0m\u001b[37m\u001b[0m \u001b[1m0s\u001b[0m 2ms/step - loss: 56.3755 - val_loss: 50.4850\n",
      "Epoch 27/1000\n",
      "\u001b[1m60/60\u001b[0m \u001b[32m━━━━━━━━━━━━━━━━━━━━\u001b[0m\u001b[37m\u001b[0m \u001b[1m0s\u001b[0m 4ms/step - loss: 54.4874 - val_loss: 50.3969\n",
      "Epoch 28/1000\n",
      "\u001b[1m60/60\u001b[0m \u001b[32m━━━━━━━━━━━━━━━━━━━━\u001b[0m\u001b[37m\u001b[0m \u001b[1m0s\u001b[0m 2ms/step - loss: 55.6446 - val_loss: 50.3426\n",
      "Epoch 29/1000\n",
      "\u001b[1m60/60\u001b[0m \u001b[32m━━━━━━━━━━━━━━━━━━━━\u001b[0m\u001b[37m\u001b[0m \u001b[1m0s\u001b[0m 2ms/step - loss: 54.9094 - val_loss: 50.3115\n",
      "Epoch 30/1000\n",
      "\u001b[1m60/60\u001b[0m \u001b[32m━━━━━━━━━━━━━━━━━━━━\u001b[0m\u001b[37m\u001b[0m \u001b[1m0s\u001b[0m 2ms/step - loss: 53.7630 - val_loss: 50.2841\n",
      "Epoch 31/1000\n",
      "\u001b[1m60/60\u001b[0m \u001b[32m━━━━━━━━━━━━━━━━━━━━\u001b[0m\u001b[37m\u001b[0m \u001b[1m0s\u001b[0m 2ms/step - loss: 53.4698 - val_loss: 50.2846\n",
      "Epoch 32/1000\n",
      "\u001b[1m60/60\u001b[0m \u001b[32m━━━━━━━━━━━━━━━━━━━━\u001b[0m\u001b[37m\u001b[0m \u001b[1m0s\u001b[0m 2ms/step - loss: 54.7789 - val_loss: 50.2720\n",
      "Epoch 33/1000\n",
      "\u001b[1m60/60\u001b[0m \u001b[32m━━━━━━━━━━━━━━━━━━━━\u001b[0m\u001b[37m\u001b[0m \u001b[1m0s\u001b[0m 3ms/step - loss: 54.4018 - val_loss: 50.2651\n",
      "Epoch 34/1000\n",
      "\u001b[1m60/60\u001b[0m \u001b[32m━━━━━━━━━━━━━━━━━━━━\u001b[0m\u001b[37m\u001b[0m \u001b[1m0s\u001b[0m 2ms/step - loss: 54.4405 - val_loss: 50.2631\n",
      "Epoch 35/1000\n",
      "\u001b[1m60/60\u001b[0m \u001b[32m━━━━━━━━━━━━━━━━━━━━\u001b[0m\u001b[37m\u001b[0m \u001b[1m0s\u001b[0m 3ms/step - loss: 54.6341 - val_loss: 50.2526\n",
      "Epoch 36/1000\n",
      "\u001b[1m60/60\u001b[0m \u001b[32m━━━━━━━━━━━━━━━━━━━━\u001b[0m\u001b[37m\u001b[0m \u001b[1m0s\u001b[0m 2ms/step - loss: 54.7185 - val_loss: 50.2608\n",
      "Epoch 37/1000\n",
      "\u001b[1m60/60\u001b[0m \u001b[32m━━━━━━━━━━━━━━━━━━━━\u001b[0m\u001b[37m\u001b[0m \u001b[1m0s\u001b[0m 2ms/step - loss: 53.8077 - val_loss: 50.2666\n",
      "Epoch 38/1000\n",
      "\u001b[1m60/60\u001b[0m \u001b[32m━━━━━━━━━━━━━━━━━━━━\u001b[0m\u001b[37m\u001b[0m \u001b[1m0s\u001b[0m 2ms/step - loss: 55.3547 - val_loss: 50.2537\n",
      "Epoch 39/1000\n",
      "\u001b[1m60/60\u001b[0m \u001b[32m━━━━━━━━━━━━━━━━━━━━\u001b[0m\u001b[37m\u001b[0m \u001b[1m0s\u001b[0m 2ms/step - loss: 53.9870 - val_loss: 50.2622\n",
      "Epoch 40/1000\n",
      "\u001b[1m60/60\u001b[0m \u001b[32m━━━━━━━━━━━━━━━━━━━━\u001b[0m\u001b[37m\u001b[0m \u001b[1m0s\u001b[0m 2ms/step - loss: 54.1586 - val_loss: 50.2472\n",
      "Epoch 41/1000\n",
      "\u001b[1m60/60\u001b[0m \u001b[32m━━━━━━━━━━━━━━━━━━━━\u001b[0m\u001b[37m\u001b[0m \u001b[1m0s\u001b[0m 2ms/step - loss: 54.6878 - val_loss: 50.2564\n",
      "Epoch 42/1000\n",
      "\u001b[1m60/60\u001b[0m \u001b[32m━━━━━━━━━━━━━━━━━━━━\u001b[0m\u001b[37m\u001b[0m \u001b[1m0s\u001b[0m 3ms/step - loss: 54.2512 - val_loss: 50.2593\n",
      "Epoch 43/1000\n",
      "\u001b[1m60/60\u001b[0m \u001b[32m━━━━━━━━━━━━━━━━━━━━\u001b[0m\u001b[37m\u001b[0m \u001b[1m0s\u001b[0m 2ms/step - loss: 56.2095 - val_loss: 50.2717\n",
      "Epoch 44/1000\n",
      "\u001b[1m60/60\u001b[0m \u001b[32m━━━━━━━━━━━━━━━━━━━━\u001b[0m\u001b[37m\u001b[0m \u001b[1m0s\u001b[0m 3ms/step - loss: 55.0010 - val_loss: 50.2656\n",
      "Epoch 45/1000\n",
      "\u001b[1m60/60\u001b[0m \u001b[32m━━━━━━━━━━━━━━━━━━━━\u001b[0m\u001b[37m\u001b[0m \u001b[1m0s\u001b[0m 2ms/step - loss: 54.5350 - val_loss: 50.2522\n"
     ]
    }
   ],
   "source": [
    "history = model.fit(X_train, y_train, epochs=1000, batch_size=64, validation_data=(X_test, y_test), callbacks=[early_stopping])\n"
   ]
  },
  {
   "cell_type": "markdown",
   "metadata": {},
   "source": [
    "## Evaluate the Model"
   ]
  },
  {
   "cell_type": "code",
   "execution_count": 78,
   "metadata": {},
   "outputs": [
    {
     "name": "stdout",
     "output_type": "stream",
     "text": [
      "\u001b[1m30/30\u001b[0m \u001b[32m━━━━━━━━━━━━━━━━━━━━\u001b[0m\u001b[37m\u001b[0m \u001b[1m0s\u001b[0m 828us/step - loss: 50.6110\n",
      "Test Loss: 50.24563980102539\n",
      "\u001b[1m30/30\u001b[0m \u001b[32m━━━━━━━━━━━━━━━━━━━━\u001b[0m\u001b[37m\u001b[0m \u001b[1m0s\u001b[0m 932us/step\n"
     ]
    }
   ],
   "source": [
    "# Model evaluation\n",
    "loss = model.evaluate(X_test, y_test)\n",
    "print(\"Test Loss:\", loss)\n",
    "\n",
    "# Predict the next sequence of lottery numbers and date\n",
    "predictions = model.predict(X_test)\n",
    "\n"
   ]
  },
  {
   "cell_type": "markdown",
   "metadata": {},
   "source": [
    "# Add the New Date in X_new here!! To get your newest prediction"
   ]
  },
  {
   "cell_type": "code",
   "execution_count": 79,
   "metadata": {},
   "outputs": [
    {
     "name": "stdout",
     "output_type": "stream",
     "text": [
      "\u001b[1m1/1\u001b[0m \u001b[32m━━━━━━━━━━━━━━━━━━━━\u001b[0m\u001b[37m\u001b[0m \u001b[1m0s\u001b[0m 231ms/step\n"
     ]
    }
   ],
   "source": [
    "# Assume X_new is your new data with shape (1, 3)\n",
    "X_new = np.array([4, 5, 2024]).reshape(1, -1)  # Reshape the new data   ADD THE PREDICTION DATE HERE\n",
    "X_new_scaled = scaler.transform(X_new)  # Scale the new data\n",
    "X_new_reshaped = X_new_scaled.reshape((1, 1, 3))  # Reshape the new data\n",
    "predictions = model.predict(X_new_reshaped)  # Make predictions"
   ]
  },
  {
   "cell_type": "markdown",
   "metadata": {},
   "source": [
    "# Predict your new Numbers for the Week!"
   ]
  },
  {
   "cell_type": "code",
   "execution_count": 80,
   "metadata": {},
   "outputs": [
    {
     "name": "stdout",
     "output_type": "stream",
     "text": [
      "Predicted Lotto Numbers as List: [7, 14, 21, 29, 36, 43]\n"
     ]
    }
   ],
   "source": [
    "# Convert the predicted array to a list of integers\n",
    "predicted_numbers_list = [int(round(number)) for sublist in predictions[-1] for number in sublist]\n",
    "\n",
    "print(\"Predicted Lotto Numbers as List:\", predicted_numbers_list)"
   ]
  },
  {
   "cell_type": "markdown",
   "metadata": {},
   "source": [
    "## Optional - Store the Numbers for BONUS Notebook 8 in the End!!!"
   ]
  },
  {
   "cell_type": "code",
   "execution_count": 81,
   "metadata": {},
   "outputs": [],
   "source": [
    "# Store the List in a Pickle file\n",
    "\n",
    "with open(\"stored_predictions/lstm_model.pickle\", \"wb\") as f:\n",
    "    pickle.dump(predicted_numbers_list, f)"
   ]
  },
  {
   "cell_type": "markdown",
   "metadata": {},
   "source": [
    "# Predictions for the 5 Lottery Ticket Field!\n",
    "\n",
    "### DISCLAIMER:\n",
    "- This is a Fun Project to Showcase some IT Skills\n",
    "- Lottery is a total statistically Random Game\n",
    "- Do not use or let you inspire by this Prediction!\n",
    "- Gambling can make you addicted! Only Play with Caution!\n",
    "- I claim no rights, that my outputs would even be near the drawn value\n",
    "\n",
    "### About the Predictions:\n",
    "- In Field 5 we go for a prediction with a Recurrent Neural Network Model\n",
    "- This Model could work better, if we had more Features or possibilities like unordered Lotto Numbers etc. \n",
    "- The predictions of this Model seem to be evenly Distributed from 0-49 - could be that this is the lowest Mean squared Error in Random Lotteries"
   ]
  }
 ],
 "metadata": {
  "kernelspec": {
   "display_name": ".venv",
   "language": "python",
   "name": "python3"
  },
  "language_info": {
   "codemirror_mode": {
    "name": "ipython",
    "version": 3
   },
   "file_extension": ".py",
   "mimetype": "text/x-python",
   "name": "python",
   "nbconvert_exporter": "python",
   "pygments_lexer": "ipython3",
   "version": "3.11.0rc2"
  }
 },
 "nbformat": 4,
 "nbformat_minor": 2
}
