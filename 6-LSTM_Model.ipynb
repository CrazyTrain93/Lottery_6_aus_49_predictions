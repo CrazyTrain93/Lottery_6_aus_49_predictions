{
 "cells": [
  {
   "cell_type": "markdown",
   "metadata": {},
   "source": [
    "## 6. Prediction - Long-Short Term Memory Model"
   ]
  },
  {
   "cell_type": "markdown",
   "metadata": {},
   "source": [
    "### About this Method and the assumption we have behind it:\n",
    "- LSTM Model is a type of recurrent neural networks (RNN)\n",
    "- designed to handle sequence precition problems, particularly those with long-range dependencies. \n",
    "- This is a supervised Learning Approach to predict Numbers\n",
    "\n",
    "\n",
    "If you want to learn more about Recurrent Neural Networks visit aws Documentation - https://aws.amazon.com/de/what-is/recurrent-neural-network/\n",
    "\n",
    "The Solution here somehow goes from 6 or 7 in 7 or 8 steps onwards.. i suggest this lies on the randomness in all the data, that the number which the model picks seem to be nearly distributed\n",
    "and to have the least mean squared error (which is obviously a result which is distributed across the numbers 0-49 evenly)\n",
    "\n",
    "if i had the Lotto Numbers in unsorted Form (lotto homepage and everyone sorts them after Drawing) this approach to predict Numbers with would be more powerful \n"
   ]
  },
  {
   "cell_type": "code",
   "execution_count": 1,
   "metadata": {},
   "outputs": [],
   "source": [
    "# Import Libraries needed\n",
    "import pandas as pd\n",
    "import matplotlib.pyplot as plt\n",
    "import numpy as np\n",
    "from sklearn.preprocessing import MinMaxScaler\n",
    "from keras.models import Sequential\n",
    "from keras.layers import LSTM, Dense\n",
    "from sklearn.model_selection import train_test_split\n",
    "from keras.layers import Dropout\n",
    "from keras.layers import Input\n",
    "from keras.callbacks import EarlyStopping\n",
    "import pickle\n",
    "\n",
    "plt.style.use('https://github.com/dhaitz/matplotlib-stylesheets/raw/master/pitayasmoothie-dark.mplstyle')"
   ]
  },
  {
   "cell_type": "markdown",
   "metadata": {},
   "source": [
    "### Load the Data we Stored in the data Folder with Notebook 1"
   ]
  },
  {
   "cell_type": "code",
   "execution_count": 2,
   "metadata": {},
   "outputs": [],
   "source": [
    "\n",
    "# Load the CSV file into a DataFrame\n",
    "frequency_data = pd.read_csv(\"data/frequency_data.csv\")\n"
   ]
  },
  {
   "cell_type": "markdown",
   "metadata": {},
   "source": [
    "### Convert date from String to Datetime for Evaluation\n",
    "And further Data Processing for our needs"
   ]
  },
  {
   "cell_type": "markdown",
   "metadata": {},
   "source": [
    "### Here we Preprocess the Features different than in any other Notebook to make it work for LSTM-Models"
   ]
  },
  {
   "cell_type": "code",
   "execution_count": 3,
   "metadata": {},
   "outputs": [
    {
     "data": {
      "text/html": [
       "<div>\n",
       "<style scoped>\n",
       "    .dataframe tbody tr th:only-of-type {\n",
       "        vertical-align: middle;\n",
       "    }\n",
       "\n",
       "    .dataframe tbody tr th {\n",
       "        vertical-align: top;\n",
       "    }\n",
       "\n",
       "    .dataframe thead th {\n",
       "        text-align: right;\n",
       "    }\n",
       "</style>\n",
       "<table border=\"1\" class=\"dataframe\">\n",
       "  <thead>\n",
       "    <tr style=\"text-align: right;\">\n",
       "      <th></th>\n",
       "      <th>Lottozahl_1</th>\n",
       "      <th>Lottozahl_2</th>\n",
       "      <th>Lottozahl_3</th>\n",
       "      <th>Lottozahl_4</th>\n",
       "      <th>Lottozahl_5</th>\n",
       "      <th>Lottozahl_6</th>\n",
       "      <th>day</th>\n",
       "      <th>month</th>\n",
       "      <th>year</th>\n",
       "    </tr>\n",
       "  </thead>\n",
       "  <tbody>\n",
       "    <tr>\n",
       "      <th>0</th>\n",
       "      <td>3</td>\n",
       "      <td>12</td>\n",
       "      <td>13</td>\n",
       "      <td>16</td>\n",
       "      <td>23</td>\n",
       "      <td>41</td>\n",
       "      <td>9</td>\n",
       "      <td>10</td>\n",
       "      <td>1955</td>\n",
       "    </tr>\n",
       "    <tr>\n",
       "      <th>1</th>\n",
       "      <td>3</td>\n",
       "      <td>12</td>\n",
       "      <td>18</td>\n",
       "      <td>30</td>\n",
       "      <td>32</td>\n",
       "      <td>49</td>\n",
       "      <td>16</td>\n",
       "      <td>10</td>\n",
       "      <td>1955</td>\n",
       "    </tr>\n",
       "    <tr>\n",
       "      <th>2</th>\n",
       "      <td>12</td>\n",
       "      <td>14</td>\n",
       "      <td>23</td>\n",
       "      <td>24</td>\n",
       "      <td>34</td>\n",
       "      <td>36</td>\n",
       "      <td>23</td>\n",
       "      <td>10</td>\n",
       "      <td>1955</td>\n",
       "    </tr>\n",
       "    <tr>\n",
       "      <th>3</th>\n",
       "      <td>4</td>\n",
       "      <td>13</td>\n",
       "      <td>23</td>\n",
       "      <td>30</td>\n",
       "      <td>36</td>\n",
       "      <td>44</td>\n",
       "      <td>30</td>\n",
       "      <td>10</td>\n",
       "      <td>1955</td>\n",
       "    </tr>\n",
       "    <tr>\n",
       "      <th>4</th>\n",
       "      <td>5</td>\n",
       "      <td>6</td>\n",
       "      <td>31</td>\n",
       "      <td>39</td>\n",
       "      <td>44</td>\n",
       "      <td>49</td>\n",
       "      <td>6</td>\n",
       "      <td>11</td>\n",
       "      <td>1955</td>\n",
       "    </tr>\n",
       "  </tbody>\n",
       "</table>\n",
       "</div>"
      ],
      "text/plain": [
       "   Lottozahl_1  Lottozahl_2  Lottozahl_3  Lottozahl_4  Lottozahl_5  \\\n",
       "0            3           12           13           16           23   \n",
       "1            3           12           18           30           32   \n",
       "2           12           14           23           24           34   \n",
       "3            4           13           23           30           36   \n",
       "4            5            6           31           39           44   \n",
       "\n",
       "   Lottozahl_6  day  month  year  \n",
       "0           41    9     10  1955  \n",
       "1           49   16     10  1955  \n",
       "2           36   23     10  1955  \n",
       "3           44   30     10  1955  \n",
       "4           49    6     11  1955  "
      ]
     },
     "execution_count": 3,
     "metadata": {},
     "output_type": "execute_result"
    }
   ],
   "source": [
    "# convert the string to datetime\n",
    "frequency_data[\"date\"] = pd.to_datetime(frequency_data[\"date\"], format='%d.%m.%Y')\n",
    "\n",
    "# Convert the Lottozahl column to a list of integers\n",
    "frequency_data[\"Lottozahl\"] = frequency_data[\"Lottozahl\"].apply(lambda x: eval(x))\n",
    "\n",
    "# Expand the Lottozahl column into seperate columns\n",
    "df_expanded = pd.DataFrame(frequency_data[\"Lottozahl\"].tolist(), columns=['Lottozahl_1', 'Lottozahl_2', 'Lottozahl_3', 'Lottozahl_4', 'Lottozahl_5', 'Lottozahl_6'])\n",
    "\n",
    "# Create the final Dataframe\n",
    "df_final = pd.concat([frequency_data.drop(columns= \"Lottozahl\"), df_expanded], axis=1)\n",
    "\n",
    "\n",
    "# Cast the Date into own columns\n",
    "df_final[\"day\"] = df_final[\"date\"].dt.day\n",
    "df_final[\"month\"] = df_final[\"date\"].dt.month\n",
    "df_final[\"year\"] = df_final[\"date\"].dt.year\n",
    "\n",
    "# Drop the Superzahl Column (we only Predict the 6 Lotto Numbers)\n",
    "df_final.drop([\"Superzahl\", \"id\",\"date\"], axis=1, inplace=True)\n",
    "\n",
    "df_final.head()"
   ]
  },
  {
   "cell_type": "markdown",
   "metadata": {},
   "source": [
    "### Scale the Features for the LSTM Model \n",
    "- we will use a MinMax Scaler here and restrict the range from 0-1 due to we have only positive values"
   ]
  },
  {
   "cell_type": "code",
   "execution_count": 4,
   "metadata": {},
   "outputs": [],
   "source": [
    "# cast dataframe to array\n",
    "dataset = df_final.values"
   ]
  },
  {
   "cell_type": "code",
   "execution_count": 5,
   "metadata": {},
   "outputs": [],
   "source": [
    "X = dataset[:, 6:]  # Input features:  date components\n",
    "y = dataset[:, :6]  # Output labels: Future lottery numbers"
   ]
  },
  {
   "cell_type": "code",
   "execution_count": 6,
   "metadata": {},
   "outputs": [],
   "source": [
    "# use scaler to get the feature space closer\n",
    "scaler = MinMaxScaler()\n",
    "X_scaled = scaler.fit_transform(X)"
   ]
  },
  {
   "cell_type": "markdown",
   "metadata": {},
   "source": [
    "### Train Test Split for the Model"
   ]
  },
  {
   "cell_type": "code",
   "execution_count": 7,
   "metadata": {},
   "outputs": [],
   "source": [
    "X_train, X_test, y_train, y_test = train_test_split(X_scaled, y, test_size = 0.2)"
   ]
  },
  {
   "cell_type": "code",
   "execution_count": 8,
   "metadata": {},
   "outputs": [],
   "source": [
    "# set the time Step which the LSTM Model remembers in short term memory\n",
    "time_step = 1"
   ]
  },
  {
   "cell_type": "markdown",
   "metadata": {},
   "source": [
    "### Shape the Date in the right Input Format for the LSTM Model"
   ]
  },
  {
   "cell_type": "code",
   "execution_count": 9,
   "metadata": {},
   "outputs": [],
   "source": [
    "# Reshape input data for LSTM (samples, time steps, features)\n",
    "X_train = X_train.reshape(X_train.shape[0], time_step, X_train.shape[1])\n",
    "X_test = X_test.reshape((X_test.shape[0], time_step, X_test.shape[1]))"
   ]
  },
  {
   "cell_type": "markdown",
   "metadata": {},
   "source": [
    "### Build the LSTM Model\n",
    "- i add 1 Input layer with 3 values per row for the date\n",
    "- 1 LSTM Layer with 50 Neurons\n",
    "- 1 Dropout Layer 20% to prevent overfitting ;) \n",
    "- 1 Dense Layer as output layer for the next sequence of lottery numbers"
   ]
  },
  {
   "cell_type": "code",
   "execution_count": 10,
   "metadata": {},
   "outputs": [],
   "source": [
    "# Define the LSTM model with additional Dense layer\n",
    "model = Sequential()\n",
    "model.add(Input(shape=(1, 3)))  # Input layer with the specified shape\n",
    "model.add(LSTM(50, return_sequences=True))  # First LSTM layer\n",
    "model.add(Dense(12))  # Dense layer with 12 neurons\n",
    "model.add(Dropout(0.2))  # Dropout layer to prevent overfitting\n",
    "model.add(LSTM(50, return_sequences=True))  # Second LSTM layer\n",
    "model.add(Dropout(0.2))  # Dropout layer to prevent overfitting\n",
    "model.add(Dense(6))  # Output layer with 6 neurons for the next sequence of lottery numbers"
   ]
  },
  {
   "cell_type": "markdown",
   "metadata": {},
   "source": [
    "### Implement early stopping so we can increase the Epochs and don't miss out additional MSE loss"
   ]
  },
  {
   "cell_type": "code",
   "execution_count": 11,
   "metadata": {},
   "outputs": [],
   "source": [
    "# this stops the model earlier if it already learned enough\n",
    "early_stopping = EarlyStopping(monitor=\"val_loss\", patience=5, verbose=0,restore_best_weights=True)"
   ]
  },
  {
   "cell_type": "code",
   "execution_count": 12,
   "metadata": {},
   "outputs": [],
   "source": [
    "# compile the model\n",
    "model.compile(optimizer=\"adam\", loss=\"mse\")"
   ]
  },
  {
   "cell_type": "markdown",
   "metadata": {},
   "source": [
    "# Train the Model"
   ]
  },
  {
   "cell_type": "code",
   "execution_count": 13,
   "metadata": {},
   "outputs": [
    {
     "name": "stdout",
     "output_type": "stream",
     "text": [
      "Epoch 1/1000\n",
      "\u001b[1m60/60\u001b[0m \u001b[32m━━━━━━━━━━━━━━━━━━━━\u001b[0m\u001b[37m\u001b[0m \u001b[1m3s\u001b[0m 8ms/step - loss: 819.5081 - val_loss: 784.3165\n",
      "Epoch 2/1000\n",
      "\u001b[1m60/60\u001b[0m \u001b[32m━━━━━━━━━━━━━━━━━━━━\u001b[0m\u001b[37m\u001b[0m \u001b[1m0s\u001b[0m 3ms/step - loss: 709.6385 - val_loss: 469.5742\n",
      "Epoch 3/1000\n",
      "\u001b[1m60/60\u001b[0m \u001b[32m━━━━━━━━━━━━━━━━━━━━\u001b[0m\u001b[37m\u001b[0m \u001b[1m0s\u001b[0m 3ms/step - loss: 431.4710 - val_loss: 346.0226\n",
      "Epoch 4/1000\n",
      "\u001b[1m60/60\u001b[0m \u001b[32m━━━━━━━━━━━━━━━━━━━━\u001b[0m\u001b[37m\u001b[0m \u001b[1m0s\u001b[0m 2ms/step - loss: 328.8999 - val_loss: 275.4619\n",
      "Epoch 5/1000\n",
      "\u001b[1m60/60\u001b[0m \u001b[32m━━━━━━━━━━━━━━━━━━━━\u001b[0m\u001b[37m\u001b[0m \u001b[1m0s\u001b[0m 3ms/step - loss: 262.6882 - val_loss: 224.5507\n",
      "Epoch 6/1000\n",
      "\u001b[1m60/60\u001b[0m \u001b[32m━━━━━━━━━━━━━━━━━━━━\u001b[0m\u001b[37m\u001b[0m \u001b[1m0s\u001b[0m 2ms/step - loss: 217.3285 - val_loss: 185.7638\n",
      "Epoch 7/1000\n",
      "\u001b[1m60/60\u001b[0m \u001b[32m━━━━━━━━━━━━━━━━━━━━\u001b[0m\u001b[37m\u001b[0m \u001b[1m0s\u001b[0m 2ms/step - loss: 177.7697 - val_loss: 155.5953\n",
      "Epoch 8/1000\n",
      "\u001b[1m60/60\u001b[0m \u001b[32m━━━━━━━━━━━━━━━━━━━━\u001b[0m\u001b[37m\u001b[0m \u001b[1m0s\u001b[0m 2ms/step - loss: 152.2767 - val_loss: 131.7264\n",
      "Epoch 9/1000\n",
      "\u001b[1m60/60\u001b[0m \u001b[32m━━━━━━━━━━━━━━━━━━━━\u001b[0m\u001b[37m\u001b[0m \u001b[1m0s\u001b[0m 3ms/step - loss: 130.7723 - val_loss: 112.9877\n",
      "Epoch 10/1000\n",
      "\u001b[1m60/60\u001b[0m \u001b[32m━━━━━━━━━━━━━━━━━━━━\u001b[0m\u001b[37m\u001b[0m \u001b[1m0s\u001b[0m 2ms/step - loss: 111.6048 - val_loss: 98.2298\n",
      "Epoch 11/1000\n",
      "\u001b[1m60/60\u001b[0m \u001b[32m━━━━━━━━━━━━━━━━━━━━\u001b[0m\u001b[37m\u001b[0m \u001b[1m0s\u001b[0m 2ms/step - loss: 98.8568 - val_loss: 86.6010\n",
      "Epoch 12/1000\n",
      "\u001b[1m60/60\u001b[0m \u001b[32m━━━━━━━━━━━━━━━━━━━━\u001b[0m\u001b[37m\u001b[0m \u001b[1m0s\u001b[0m 2ms/step - loss: 88.1972 - val_loss: 77.5811\n",
      "Epoch 13/1000\n",
      "\u001b[1m60/60\u001b[0m \u001b[32m━━━━━━━━━━━━━━━━━━━━\u001b[0m\u001b[37m\u001b[0m \u001b[1m0s\u001b[0m 3ms/step - loss: 79.4490 - val_loss: 70.6142\n",
      "Epoch 14/1000\n",
      "\u001b[1m60/60\u001b[0m \u001b[32m━━━━━━━━━━━━━━━━━━━━\u001b[0m\u001b[37m\u001b[0m \u001b[1m0s\u001b[0m 2ms/step - loss: 73.5958 - val_loss: 65.2033\n",
      "Epoch 15/1000\n",
      "\u001b[1m60/60\u001b[0m \u001b[32m━━━━━━━━━━━━━━━━━━━━\u001b[0m\u001b[37m\u001b[0m \u001b[1m0s\u001b[0m 2ms/step - loss: 69.3956 - val_loss: 61.0776\n",
      "Epoch 16/1000\n",
      "\u001b[1m60/60\u001b[0m \u001b[32m━━━━━━━━━━━━━━━━━━━━\u001b[0m\u001b[37m\u001b[0m \u001b[1m0s\u001b[0m 2ms/step - loss: 65.6446 - val_loss: 57.9479\n",
      "Epoch 17/1000\n",
      "\u001b[1m60/60\u001b[0m \u001b[32m━━━━━━━━━━━━━━━━━━━━\u001b[0m\u001b[37m\u001b[0m \u001b[1m0s\u001b[0m 2ms/step - loss: 62.4811 - val_loss: 55.6433\n",
      "Epoch 18/1000\n",
      "\u001b[1m60/60\u001b[0m \u001b[32m━━━━━━━━━━━━━━━━━━━━\u001b[0m\u001b[37m\u001b[0m \u001b[1m0s\u001b[0m 2ms/step - loss: 60.1073 - val_loss: 53.9425\n",
      "Epoch 19/1000\n",
      "\u001b[1m60/60\u001b[0m \u001b[32m━━━━━━━━━━━━━━━━━━━━\u001b[0m\u001b[37m\u001b[0m \u001b[1m0s\u001b[0m 2ms/step - loss: 58.5227 - val_loss: 52.6752\n",
      "Epoch 20/1000\n",
      "\u001b[1m60/60\u001b[0m \u001b[32m━━━━━━━━━━━━━━━━━━━━\u001b[0m\u001b[37m\u001b[0m \u001b[1m0s\u001b[0m 2ms/step - loss: 57.1183 - val_loss: 51.7534\n",
      "Epoch 21/1000\n",
      "\u001b[1m60/60\u001b[0m \u001b[32m━━━━━━━━━━━━━━━━━━━━\u001b[0m\u001b[37m\u001b[0m \u001b[1m0s\u001b[0m 2ms/step - loss: 57.1936 - val_loss: 51.0995\n",
      "Epoch 22/1000\n",
      "\u001b[1m60/60\u001b[0m \u001b[32m━━━━━━━━━━━━━━━━━━━━\u001b[0m\u001b[37m\u001b[0m \u001b[1m0s\u001b[0m 2ms/step - loss: 56.6546 - val_loss: 50.6330\n",
      "Epoch 23/1000\n",
      "\u001b[1m60/60\u001b[0m \u001b[32m━━━━━━━━━━━━━━━━━━━━\u001b[0m\u001b[37m\u001b[0m \u001b[1m0s\u001b[0m 2ms/step - loss: 58.1904 - val_loss: 50.3254\n",
      "Epoch 24/1000\n",
      "\u001b[1m60/60\u001b[0m \u001b[32m━━━━━━━━━━━━━━━━━━━━\u001b[0m\u001b[37m\u001b[0m \u001b[1m0s\u001b[0m 2ms/step - loss: 55.5701 - val_loss: 50.0864\n",
      "Epoch 25/1000\n",
      "\u001b[1m60/60\u001b[0m \u001b[32m━━━━━━━━━━━━━━━━━━━━\u001b[0m\u001b[37m\u001b[0m \u001b[1m0s\u001b[0m 2ms/step - loss: 55.0054 - val_loss: 49.9205\n",
      "Epoch 26/1000\n",
      "\u001b[1m60/60\u001b[0m \u001b[32m━━━━━━━━━━━━━━━━━━━━\u001b[0m\u001b[37m\u001b[0m \u001b[1m0s\u001b[0m 2ms/step - loss: 55.4225 - val_loss: 49.7981\n",
      "Epoch 27/1000\n",
      "\u001b[1m60/60\u001b[0m \u001b[32m━━━━━━━━━━━━━━━━━━━━\u001b[0m\u001b[37m\u001b[0m \u001b[1m0s\u001b[0m 2ms/step - loss: 54.8200 - val_loss: 49.7378\n",
      "Epoch 28/1000\n",
      "\u001b[1m60/60\u001b[0m \u001b[32m━━━━━━━━━━━━━━━━━━━━\u001b[0m\u001b[37m\u001b[0m \u001b[1m0s\u001b[0m 2ms/step - loss: 55.3657 - val_loss: 49.6785\n",
      "Epoch 29/1000\n",
      "\u001b[1m60/60\u001b[0m \u001b[32m━━━━━━━━━━━━━━━━━━━━\u001b[0m\u001b[37m\u001b[0m \u001b[1m0s\u001b[0m 3ms/step - loss: 56.0649 - val_loss: 49.6562\n",
      "Epoch 30/1000\n",
      "\u001b[1m60/60\u001b[0m \u001b[32m━━━━━━━━━━━━━━━━━━━━\u001b[0m\u001b[37m\u001b[0m \u001b[1m0s\u001b[0m 3ms/step - loss: 54.3865 - val_loss: 49.6415\n",
      "Epoch 31/1000\n",
      "\u001b[1m60/60\u001b[0m \u001b[32m━━━━━━━━━━━━━━━━━━━━\u001b[0m\u001b[37m\u001b[0m \u001b[1m0s\u001b[0m 3ms/step - loss: 54.9939 - val_loss: 49.6179\n",
      "Epoch 32/1000\n",
      "\u001b[1m60/60\u001b[0m \u001b[32m━━━━━━━━━━━━━━━━━━━━\u001b[0m\u001b[37m\u001b[0m \u001b[1m0s\u001b[0m 2ms/step - loss: 55.9108 - val_loss: 49.6216\n",
      "Epoch 33/1000\n",
      "\u001b[1m60/60\u001b[0m \u001b[32m━━━━━━━━━━━━━━━━━━━━\u001b[0m\u001b[37m\u001b[0m \u001b[1m0s\u001b[0m 2ms/step - loss: 53.9385 - val_loss: 49.6050\n",
      "Epoch 34/1000\n",
      "\u001b[1m60/60\u001b[0m \u001b[32m━━━━━━━━━━━━━━━━━━━━\u001b[0m\u001b[37m\u001b[0m \u001b[1m0s\u001b[0m 3ms/step - loss: 55.6902 - val_loss: 49.6100\n",
      "Epoch 35/1000\n",
      "\u001b[1m60/60\u001b[0m \u001b[32m━━━━━━━━━━━━━━━━━━━━\u001b[0m\u001b[37m\u001b[0m \u001b[1m0s\u001b[0m 2ms/step - loss: 54.0381 - val_loss: 49.6238\n",
      "Epoch 36/1000\n",
      "\u001b[1m60/60\u001b[0m \u001b[32m━━━━━━━━━━━━━━━━━━━━\u001b[0m\u001b[37m\u001b[0m \u001b[1m0s\u001b[0m 2ms/step - loss: 55.5486 - val_loss: 49.6043\n",
      "Epoch 37/1000\n",
      "\u001b[1m60/60\u001b[0m \u001b[32m━━━━━━━━━━━━━━━━━━━━\u001b[0m\u001b[37m\u001b[0m \u001b[1m0s\u001b[0m 2ms/step - loss: 55.0568 - val_loss: 49.6009\n",
      "Epoch 38/1000\n",
      "\u001b[1m60/60\u001b[0m \u001b[32m━━━━━━━━━━━━━━━━━━━━\u001b[0m\u001b[37m\u001b[0m \u001b[1m0s\u001b[0m 2ms/step - loss: 56.1465 - val_loss: 49.6358\n",
      "Epoch 39/1000\n",
      "\u001b[1m60/60\u001b[0m \u001b[32m━━━━━━━━━━━━━━━━━━━━\u001b[0m\u001b[37m\u001b[0m \u001b[1m0s\u001b[0m 2ms/step - loss: 54.4954 - val_loss: 49.6124\n",
      "Epoch 40/1000\n",
      "\u001b[1m60/60\u001b[0m \u001b[32m━━━━━━━━━━━━━━━━━━━━\u001b[0m\u001b[37m\u001b[0m \u001b[1m0s\u001b[0m 2ms/step - loss: 54.1925 - val_loss: 49.6020\n",
      "Epoch 41/1000\n",
      "\u001b[1m60/60\u001b[0m \u001b[32m━━━━━━━━━━━━━━━━━━━━\u001b[0m\u001b[37m\u001b[0m \u001b[1m0s\u001b[0m 2ms/step - loss: 55.5309 - val_loss: 49.5954\n",
      "Epoch 42/1000\n",
      "\u001b[1m60/60\u001b[0m \u001b[32m━━━━━━━━━━━━━━━━━━━━\u001b[0m\u001b[37m\u001b[0m \u001b[1m0s\u001b[0m 2ms/step - loss: 56.1671 - val_loss: 49.5968\n",
      "Epoch 43/1000\n",
      "\u001b[1m60/60\u001b[0m \u001b[32m━━━━━━━━━━━━━━━━━━━━\u001b[0m\u001b[37m\u001b[0m \u001b[1m0s\u001b[0m 2ms/step - loss: 54.8138 - val_loss: 49.6013\n",
      "Epoch 44/1000\n",
      "\u001b[1m60/60\u001b[0m \u001b[32m━━━━━━━━━━━━━━━━━━━━\u001b[0m\u001b[37m\u001b[0m \u001b[1m0s\u001b[0m 2ms/step - loss: 54.3659 - val_loss: 49.6140\n",
      "Epoch 45/1000\n",
      "\u001b[1m60/60\u001b[0m \u001b[32m━━━━━━━━━━━━━━━━━━━━\u001b[0m\u001b[37m\u001b[0m \u001b[1m0s\u001b[0m 2ms/step - loss: 56.1192 - val_loss: 49.5812\n",
      "Epoch 46/1000\n",
      "\u001b[1m60/60\u001b[0m \u001b[32m━━━━━━━━━━━━━━━━━━━━\u001b[0m\u001b[37m\u001b[0m \u001b[1m0s\u001b[0m 2ms/step - loss: 55.2603 - val_loss: 49.5906\n",
      "Epoch 47/1000\n",
      "\u001b[1m60/60\u001b[0m \u001b[32m━━━━━━━━━━━━━━━━━━━━\u001b[0m\u001b[37m\u001b[0m \u001b[1m0s\u001b[0m 2ms/step - loss: 55.7928 - val_loss: 49.6002\n",
      "Epoch 48/1000\n",
      "\u001b[1m60/60\u001b[0m \u001b[32m━━━━━━━━━━━━━━━━━━━━\u001b[0m\u001b[37m\u001b[0m \u001b[1m0s\u001b[0m 2ms/step - loss: 54.3771 - val_loss: 49.5956\n",
      "Epoch 49/1000\n",
      "\u001b[1m60/60\u001b[0m \u001b[32m━━━━━━━━━━━━━━━━━━━━\u001b[0m\u001b[37m\u001b[0m \u001b[1m0s\u001b[0m 2ms/step - loss: 53.9536 - val_loss: 49.5796\n",
      "Epoch 50/1000\n",
      "\u001b[1m60/60\u001b[0m \u001b[32m━━━━━━━━━━━━━━━━━━━━\u001b[0m\u001b[37m\u001b[0m \u001b[1m0s\u001b[0m 2ms/step - loss: 53.8726 - val_loss: 49.6057\n",
      "Epoch 51/1000\n",
      "\u001b[1m60/60\u001b[0m \u001b[32m━━━━━━━━━━━━━━━━━━━━\u001b[0m\u001b[37m\u001b[0m \u001b[1m0s\u001b[0m 2ms/step - loss: 55.1600 - val_loss: 49.5922\n",
      "Epoch 52/1000\n",
      "\u001b[1m60/60\u001b[0m \u001b[32m━━━━━━━━━━━━━━━━━━━━\u001b[0m\u001b[37m\u001b[0m \u001b[1m0s\u001b[0m 2ms/step - loss: 54.0656 - val_loss: 49.5956\n",
      "Epoch 53/1000\n",
      "\u001b[1m60/60\u001b[0m \u001b[32m━━━━━━━━━━━━━━━━━━━━\u001b[0m\u001b[37m\u001b[0m \u001b[1m0s\u001b[0m 2ms/step - loss: 55.2183 - val_loss: 49.5994\n",
      "Epoch 54/1000\n",
      "\u001b[1m60/60\u001b[0m \u001b[32m━━━━━━━━━━━━━━━━━━━━\u001b[0m\u001b[37m\u001b[0m \u001b[1m0s\u001b[0m 2ms/step - loss: 55.1200 - val_loss: 49.5841\n"
     ]
    }
   ],
   "source": [
    "history = model.fit(X_train, y_train, epochs=1000, batch_size=64, validation_data=(X_test, y_test), callbacks=[early_stopping])\n"
   ]
  },
  {
   "cell_type": "markdown",
   "metadata": {},
   "source": [
    "## Evaluate the Model"
   ]
  },
  {
   "cell_type": "code",
   "execution_count": 14,
   "metadata": {},
   "outputs": [
    {
     "name": "stdout",
     "output_type": "stream",
     "text": [
      "\u001b[1m30/30\u001b[0m \u001b[32m━━━━━━━━━━━━━━━━━━━━\u001b[0m\u001b[37m\u001b[0m \u001b[1m0s\u001b[0m 897us/step - loss: 48.3344\n",
      "Test Loss: 49.58043670654297\n",
      "\u001b[1m30/30\u001b[0m \u001b[32m━━━━━━━━━━━━━━━━━━━━\u001b[0m\u001b[37m\u001b[0m \u001b[1m0s\u001b[0m 897us/step\n"
     ]
    }
   ],
   "source": [
    "# Model evaluation\n",
    "loss = model.evaluate(X_test, y_test)\n",
    "print(\"Test Loss:\", loss)\n",
    "\n",
    "# Predict the next sequence of lottery numbers and date\n",
    "predictions = model.predict(X_test)\n",
    "\n"
   ]
  },
  {
   "cell_type": "markdown",
   "metadata": {},
   "source": [
    "# Add the New Date in X_new here!! To get your newest prediction"
   ]
  },
  {
   "cell_type": "code",
   "execution_count": 15,
   "metadata": {},
   "outputs": [
    {
     "name": "stdout",
     "output_type": "stream",
     "text": [
      "\u001b[1m1/1\u001b[0m \u001b[32m━━━━━━━━━━━━━━━━━━━━\u001b[0m\u001b[37m\u001b[0m \u001b[1m0s\u001b[0m 220ms/step\n"
     ]
    }
   ],
   "source": [
    "# Assume X_new is your new data with shape (1, 3)\n",
    "X_new = np.array([4, 5, 2024]).reshape(1, -1)  # Reshape the new data   ADD THE PREDICTION DATE HERE\n",
    "X_new_scaled = scaler.transform(X_new)  # Scale the new data\n",
    "X_new_reshaped = X_new_scaled.reshape((1, 1, 3))  # Reshape the new data\n",
    "predictions = model.predict(X_new_reshaped)  # Make predictions"
   ]
  },
  {
   "cell_type": "markdown",
   "metadata": {},
   "source": [
    "# Predict your new Numbers for the Week!"
   ]
  },
  {
   "cell_type": "code",
   "execution_count": 16,
   "metadata": {},
   "outputs": [
    {
     "name": "stdout",
     "output_type": "stream",
     "text": [
      "Predicted Lotto Numbers as List: [7, 14, 21, 29, 36, 43]\n"
     ]
    }
   ],
   "source": [
    "# Convert the predicted array to a list of integers\n",
    "predicted_numbers_list = [int(round(number)) for sublist in predictions[-1] for number in sublist]\n",
    "\n",
    "print(\"Predicted Lotto Numbers as List:\", predicted_numbers_list)"
   ]
  },
  {
   "cell_type": "markdown",
   "metadata": {},
   "source": [
    "## Optional - Store the Numbers for BONUS Notebook 8 in the End!!!"
   ]
  },
  {
   "cell_type": "code",
   "execution_count": 17,
   "metadata": {},
   "outputs": [],
   "source": [
    "# Store the List in a Pickle file\n",
    "\n",
    "with open(\"stored_predictions/lstm_model.pickle\", \"wb\") as f:\n",
    "    pickle.dump(predicted_numbers_list, f)"
   ]
  },
  {
   "cell_type": "markdown",
   "metadata": {},
   "source": [
    "# Predictions for the 5 Lottery Ticket Field!\n",
    "\n",
    "### DISCLAIMER:\n",
    "- This is a Fun Project to Showcase some IT Skills\n",
    "- Lottery is a total statistically Random Game\n",
    "- Do not use or let you inspire by this Prediction!\n",
    "- Gambling can make you addicted! Only Play with Caution!\n",
    "- I claim no rights, that my outputs would even be near the drawn value\n",
    "\n",
    "### About the Predictions:\n",
    "- In Field 5 we go for a prediction with a Recurrent Neural Network Model\n",
    "- This Model could work better, if we had more Features or possibilities like unordered Lotto Numbers etc. \n",
    "- The predictions of this Model seem to be evenly Distributed from 0-49 - could be that this is the lowest Mean squared Error in Random Lotteries"
   ]
  }
 ],
 "metadata": {
  "kernelspec": {
   "display_name": ".venv",
   "language": "python",
   "name": "python3"
  },
  "language_info": {
   "codemirror_mode": {
    "name": "ipython",
    "version": 3
   },
   "file_extension": ".py",
   "mimetype": "text/x-python",
   "name": "python",
   "nbconvert_exporter": "python",
   "pygments_lexer": "ipython3",
   "version": "3.11.0rc2"
  }
 },
 "nbformat": 4,
 "nbformat_minor": 2
}
