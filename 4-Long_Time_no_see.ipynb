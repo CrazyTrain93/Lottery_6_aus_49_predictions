{
 "cells": [
  {
   "cell_type": "markdown",
   "metadata": {},
   "source": [
    "## 3. Prediction - Longest time not Drawn - Based on Date Column"
   ]
  },
  {
   "cell_type": "markdown",
   "metadata": {},
   "source": [
    "### About this Method and the assumption we have behind it:\n",
    "- We assume the 6 Numbers which we did not see the longest time should be drawn in short future\n",
    "- We try our Luck and pick the 6 Numbers which we did not see the longest time\n",
    "\n",
    "### The Statistical Assumption behind this\n",
    "- In a perfect World with infinite Lottery Games all Numbers should always be drawn equally often at one point in time\n",
    "- We assume that it's on the time, that some of the longest not drawn numbers appear on the next drawings\n",
    "\n",
    "For this 3 Prediction we Take the 6 longest not Drawn Numbers\n"
   ]
  },
  {
   "cell_type": "code",
   "execution_count": 8,
   "metadata": {},
   "outputs": [],
   "source": [
    "# Import Libraries needed\n",
    "import pandas as pd\n",
    "import matplotlib.pyplot as plt\n",
    "import ast\n",
    "import numpy as np\n",
    "import pickle\n",
    "\n",
    "plt.style.use('https://github.com/dhaitz/matplotlib-stylesheets/raw/master/pitayasmoothie-dark.mplstyle')"
   ]
  },
  {
   "cell_type": "markdown",
   "metadata": {},
   "source": [
    "### Load the Data we Stored in the data Folder with Notebook 1"
   ]
  },
  {
   "cell_type": "code",
   "execution_count": 9,
   "metadata": {},
   "outputs": [],
   "source": [
    "\n",
    "# Load the CSV file into a DataFrame\n",
    "frequency_data = pd.read_csv(\"data/frequency_data.csv\")\n"
   ]
  },
  {
   "cell_type": "markdown",
   "metadata": {},
   "source": [
    "### Now we count the Frequency of the Numbers which were drawn since the beginning of the Records"
   ]
  },
  {
   "cell_type": "code",
   "execution_count": 10,
   "metadata": {},
   "outputs": [
    {
     "data": {
      "text/html": [
       "<div>\n",
       "<style scoped>\n",
       "    .dataframe tbody tr th:only-of-type {\n",
       "        vertical-align: middle;\n",
       "    }\n",
       "\n",
       "    .dataframe tbody tr th {\n",
       "        vertical-align: top;\n",
       "    }\n",
       "\n",
       "    .dataframe thead th {\n",
       "        text-align: right;\n",
       "    }\n",
       "</style>\n",
       "<table border=\"1\" class=\"dataframe\">\n",
       "  <thead>\n",
       "    <tr style=\"text-align: right;\">\n",
       "      <th></th>\n",
       "      <th>id</th>\n",
       "      <th>date</th>\n",
       "      <th>Lottozahl</th>\n",
       "      <th>Superzahl</th>\n",
       "    </tr>\n",
       "  </thead>\n",
       "  <tbody>\n",
       "    <tr>\n",
       "      <th>0</th>\n",
       "      <td>1</td>\n",
       "      <td>09.10.1955</td>\n",
       "      <td>[3, 12, 13, 16, 23, 41]</td>\n",
       "      <td>NaN</td>\n",
       "    </tr>\n",
       "    <tr>\n",
       "      <th>1</th>\n",
       "      <td>2</td>\n",
       "      <td>16.10.1955</td>\n",
       "      <td>[3, 12, 18, 30, 32, 49]</td>\n",
       "      <td>NaN</td>\n",
       "    </tr>\n",
       "    <tr>\n",
       "      <th>2</th>\n",
       "      <td>3</td>\n",
       "      <td>23.10.1955</td>\n",
       "      <td>[12, 14, 23, 24, 34, 36]</td>\n",
       "      <td>NaN</td>\n",
       "    </tr>\n",
       "    <tr>\n",
       "      <th>3</th>\n",
       "      <td>4</td>\n",
       "      <td>30.10.1955</td>\n",
       "      <td>[4, 13, 23, 30, 36, 44]</td>\n",
       "      <td>NaN</td>\n",
       "    </tr>\n",
       "    <tr>\n",
       "      <th>4</th>\n",
       "      <td>5</td>\n",
       "      <td>06.11.1955</td>\n",
       "      <td>[5, 6, 31, 39, 44, 49]</td>\n",
       "      <td>NaN</td>\n",
       "    </tr>\n",
       "  </tbody>\n",
       "</table>\n",
       "</div>"
      ],
      "text/plain": [
       "   id        date                 Lottozahl  Superzahl\n",
       "0   1  09.10.1955   [3, 12, 13, 16, 23, 41]        NaN\n",
       "1   2  16.10.1955   [3, 12, 18, 30, 32, 49]        NaN\n",
       "2   3  23.10.1955  [12, 14, 23, 24, 34, 36]        NaN\n",
       "3   4  30.10.1955   [4, 13, 23, 30, 36, 44]        NaN\n",
       "4   5  06.11.1955    [5, 6, 31, 39, 44, 49]        NaN"
      ]
     },
     "execution_count": 10,
     "metadata": {},
     "output_type": "execute_result"
    }
   ],
   "source": [
    "frequency_data.head()"
   ]
  },
  {
   "cell_type": "markdown",
   "metadata": {},
   "source": [
    "### Convert date from String to Datetime for Evaluation\n",
    "And further Data Processing for our needs"
   ]
  },
  {
   "cell_type": "code",
   "execution_count": 11,
   "metadata": {},
   "outputs": [],
   "source": [
    "# convert the string to datetime\n",
    "frequency_data[\"date\"] = pd.to_datetime(frequency_data[\"date\"], format='%d.%m.%Y')\n",
    "\n",
    "# Convert the Lottozahl column to a list of integers\n",
    "frequency_data[\"Lottozahl\"] = frequency_data[\"Lottozahl\"].apply(ast.literal_eval)\n",
    "\n",
    "# Explode the list into individual rows\n",
    "frequency_data = frequency_data.explode(\"Lottozahl\")\n",
    "\n",
    "# Convert the Lottozahlen to integers\n",
    "frequency_data[\"Lottozahl\"] = frequency_data[\"Lottozahl\"].astype(int)"
   ]
  },
  {
   "cell_type": "markdown",
   "metadata": {},
   "source": [
    "### Here we Group by Lottozahl and Date"
   ]
  },
  {
   "cell_type": "code",
   "execution_count": 12,
   "metadata": {},
   "outputs": [],
   "source": [
    "# Group data to find the last drawn date for each number\n",
    "\n",
    "last_drawn_date = frequency_data.groupby(\"Lottozahl\")[\"date\"].max()\n",
    "\n",
    "# Sort this list to get the least_recently_drawn Numbers\n",
    "least_recently_drawn = last_drawn_date.sort_values().head(6)\n"
   ]
  },
  {
   "cell_type": "markdown",
   "metadata": {},
   "source": [
    "# Predictions for the 3 Lottery Ticket Field! - Longest Time not seen\n",
    "\n",
    "### DISCLAIMER:\n",
    "- This is a Fun Project to Showcase some IT Skills\n",
    "- Lottery is a total statistically Random Game\n",
    "- Do not use or let you inspire by this Prediction!\n",
    "- Gambling can make you addicted! Only Play with Caution!\n",
    "- I claim no rights, that my outputs would even be near the drawn value\n",
    "\n",
    "### About the Predictions:\n",
    "- In Field 3 we go for the longest Time no See Numbers each Lottery Ticket we play\n",
    "- The Superzahl only appears once per Lottery Ticket - we will take Random 7, 5 or 4 for each Lottery Ticket\n",
    "- This is a common Lottery Strategy - even if you win with this Numbers, you would have to share the Prize Pool with many other People\n",
    "- We will do more complex Prediction Strategies in later Notebooks\n",
    "- This Prediction will vary more from Week to Week than the first 2, because when a Number gets drawn it refreshes its date and will not show up here for a longer time"
   ]
  },
  {
   "cell_type": "code",
   "execution_count": 13,
   "metadata": {},
   "outputs": [
    {
     "name": "stdout",
     "output_type": "stream",
     "text": [
      "Your Lucky Numbers For Field 3 (Longest Time not Drawn): 14, 30, 22, 23, 42, 18  Superzahl: 7\n"
     ]
    }
   ],
   "source": [
    "# Format the first 6 Numbers for better Output\n",
    "formatted_numbers = \", \".join(map(str, least_recently_drawn.index))\n",
    "\n",
    "\n",
    "\n",
    "# Print your Lucky Numbers\n",
    "print(\"Your Lucky Numbers For Field 3 (Longest Time not Drawn):\",formatted_numbers,\" Superzahl:\", np.random.choice([4,7]))"
   ]
  },
  {
   "cell_type": "markdown",
   "metadata": {},
   "source": [
    "## Optional - Store the Numbers for BONUS Notebook 8 in the End!!!"
   ]
  },
  {
   "cell_type": "code",
   "execution_count": 14,
   "metadata": {},
   "outputs": [],
   "source": [
    "# Store the List in a Pickle file\n",
    "\n",
    "with open(\"stored_predictions/time_numbers.pickle\", \"wb\") as f:\n",
    "    pickle.dump(formatted_numbers, f)"
   ]
  }
 ],
 "metadata": {
  "kernelspec": {
   "display_name": ".venv",
   "language": "python",
   "name": "python3"
  },
  "language_info": {
   "codemirror_mode": {
    "name": "ipython",
    "version": 3
   },
   "file_extension": ".py",
   "mimetype": "text/x-python",
   "name": "python",
   "nbconvert_exporter": "python",
   "pygments_lexer": "ipython3",
   "version": "3.11.0rc2"
  }
 },
 "nbformat": 4,
 "nbformat_minor": 2
}
