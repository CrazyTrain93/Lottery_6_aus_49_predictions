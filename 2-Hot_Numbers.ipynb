{
 "cells": [
  {
   "cell_type": "markdown",
   "metadata": {},
   "source": [
    "## 1. Prediction - Frequency Analysis of the Most Frequently Drawn Number Since the Start of Records - aka Hot Numbers approach"
   ]
  },
  {
   "cell_type": "markdown",
   "metadata": {},
   "source": [
    "### About this Method and the assumption we have behind it:\n",
    "- There are Numbers which have been drawn slightly more than others\n",
    "- We try our Luck and pick the 6 most frequently Drawn Numbers\n",
    "- We do the same for the Superzahl\n",
    "\n",
    "For our 1 Prediction (remember we play 6 Fields per Lottery tickey á 6 Numbers + 1 Superzahl (for the whole Ticket Superzahl can only be selected once))\n"
   ]
  },
  {
   "cell_type": "code",
   "execution_count": 24,
   "metadata": {},
   "outputs": [],
   "source": [
    "# Import Libraries needed\n",
    "import pandas as pd\n",
    "import matplotlib.pyplot as plt\n",
    "import ast\n",
    "import numpy as np\n",
    "import pickle\n",
    "\n",
    "plt.style.use('https://github.com/dhaitz/matplotlib-stylesheets/raw/master/pitayasmoothie-dark.mplstyle')"
   ]
  },
  {
   "cell_type": "markdown",
   "metadata": {},
   "source": [
    "### Load the Data we Stored in the data Folder with Notebook 1"
   ]
  },
  {
   "cell_type": "code",
   "execution_count": 25,
   "metadata": {},
   "outputs": [],
   "source": [
    "\n",
    "# Load the CSV file into a DataFrame\n",
    "frequency_data = pd.read_csv(\"data/frequency_data.csv\")\n",
    "superzahl_data = pd.read_csv(\"data/superzahl_data.csv\")"
   ]
  },
  {
   "cell_type": "markdown",
   "metadata": {},
   "source": [
    "### Have a Look at the Dataframe and see what Feature Engineering we need"
   ]
  },
  {
   "cell_type": "code",
   "execution_count": 26,
   "metadata": {},
   "outputs": [
    {
     "data": {
      "text/html": [
       "<div>\n",
       "<style scoped>\n",
       "    .dataframe tbody tr th:only-of-type {\n",
       "        vertical-align: middle;\n",
       "    }\n",
       "\n",
       "    .dataframe tbody tr th {\n",
       "        vertical-align: top;\n",
       "    }\n",
       "\n",
       "    .dataframe thead th {\n",
       "        text-align: right;\n",
       "    }\n",
       "</style>\n",
       "<table border=\"1\" class=\"dataframe\">\n",
       "  <thead>\n",
       "    <tr style=\"text-align: right;\">\n",
       "      <th></th>\n",
       "      <th>id</th>\n",
       "      <th>date</th>\n",
       "      <th>Lottozahl</th>\n",
       "      <th>Superzahl</th>\n",
       "    </tr>\n",
       "  </thead>\n",
       "  <tbody>\n",
       "    <tr>\n",
       "      <th>0</th>\n",
       "      <td>1</td>\n",
       "      <td>09.10.1955</td>\n",
       "      <td>[3, 12, 13, 16, 23, 41]</td>\n",
       "      <td>NaN</td>\n",
       "    </tr>\n",
       "    <tr>\n",
       "      <th>1</th>\n",
       "      <td>2</td>\n",
       "      <td>16.10.1955</td>\n",
       "      <td>[3, 12, 18, 30, 32, 49]</td>\n",
       "      <td>NaN</td>\n",
       "    </tr>\n",
       "    <tr>\n",
       "      <th>2</th>\n",
       "      <td>3</td>\n",
       "      <td>23.10.1955</td>\n",
       "      <td>[12, 14, 23, 24, 34, 36]</td>\n",
       "      <td>NaN</td>\n",
       "    </tr>\n",
       "    <tr>\n",
       "      <th>3</th>\n",
       "      <td>4</td>\n",
       "      <td>30.10.1955</td>\n",
       "      <td>[4, 13, 23, 30, 36, 44]</td>\n",
       "      <td>NaN</td>\n",
       "    </tr>\n",
       "    <tr>\n",
       "      <th>4</th>\n",
       "      <td>5</td>\n",
       "      <td>06.11.1955</td>\n",
       "      <td>[5, 6, 31, 39, 44, 49]</td>\n",
       "      <td>NaN</td>\n",
       "    </tr>\n",
       "  </tbody>\n",
       "</table>\n",
       "</div>"
      ],
      "text/plain": [
       "   id        date                 Lottozahl  Superzahl\n",
       "0   1  09.10.1955   [3, 12, 13, 16, 23, 41]        NaN\n",
       "1   2  16.10.1955   [3, 12, 18, 30, 32, 49]        NaN\n",
       "2   3  23.10.1955  [12, 14, 23, 24, 34, 36]        NaN\n",
       "3   4  30.10.1955   [4, 13, 23, 30, 36, 44]        NaN\n",
       "4   5  06.11.1955    [5, 6, 31, 39, 44, 49]        NaN"
      ]
     },
     "execution_count": 26,
     "metadata": {},
     "output_type": "execute_result"
    }
   ],
   "source": [
    "frequency_data.head()"
   ]
  },
  {
   "cell_type": "code",
   "execution_count": 27,
   "metadata": {},
   "outputs": [
    {
     "name": "stdout",
     "output_type": "stream",
     "text": [
      "<class 'pandas.core.frame.DataFrame'>\n",
      "RangeIndex: 4798 entries, 0 to 4797\n",
      "Data columns (total 4 columns):\n",
      " #   Column     Non-Null Count  Dtype  \n",
      "---  ------     --------------  -----  \n",
      " 0   id         4798 non-null   int64  \n",
      " 1   date       4798 non-null   object \n",
      " 2   Lottozahl  4798 non-null   object \n",
      " 3   Superzahl  2912 non-null   float64\n",
      "dtypes: float64(1), int64(1), object(2)\n",
      "memory usage: 150.1+ KB\n"
     ]
    }
   ],
   "source": [
    "# date and Lottozahl are Objects we cast them to Datetime and Int\n",
    "frequency_data.info()"
   ]
  },
  {
   "cell_type": "markdown",
   "metadata": {},
   "source": [
    "### We See Lottozahl is a String looking like 1 List - we will handle this in the process\n",
    "\n",
    "\n",
    "PLEASE RUN EACH LINE ONLY ONCE OTHERWISE U WILL RUN INTO AN ERROR FOR THE TRANSFORMING WE DO HERE since it can not be applied twice"
   ]
  },
  {
   "cell_type": "code",
   "execution_count": 28,
   "metadata": {},
   "outputs": [],
   "source": [
    "# Convert the string representations of lists to lists\n",
    "frequency_data[\"Lottozahl\"] = frequency_data[\"Lottozahl\"].apply(lambda x: ast.literal_eval(x) if pd.notnull(x) else [])\n",
    "\n",
    "# define lotto_numbers this will make a 1 column DF with 6* same Index for 1 drawing\n",
    "# So 6 rows for each drawing in this column now \n",
    "lotto_numbers = frequency_data[\"Lottozahl\"].explode().astype(int)\n",
    "lotto_numbers_count = lotto_numbers.value_counts().sort_values(ascending=False)\n",
    "\n",
    "# Counting Values drawn of Superzahl and order then by most frequent\n",
    "superzahl_counts = superzahl_data[\"Superzahl\"].astype(int).value_counts().sort_values(ascending=False)"
   ]
  },
  {
   "cell_type": "markdown",
   "metadata": {},
   "source": [
    "# Plot our Numbers Drawn with Countplots\n",
    "\n",
    "### For Lottozahlen"
   ]
  },
  {
   "cell_type": "code",
   "execution_count": 29,
   "metadata": {},
   "outputs": [
    {
     "data": {
      "image/png": "[encoded data removed]",
      "text/plain": [
       "<Figure size 1000x600 with 1 Axes>"
      ]
     },
     "metadata": {},
     "output_type": "display_data"
    }
   ],
   "source": [
    "# Plot Lottozahl counts\n",
    "plt.figure(figsize=(10, 6))\n",
    "lotto_numbers_count.plot(kind='bar', color='skyblue', alpha=0.7)\n",
    "plt.title('Number of Times Each Lotto Number was Drawn')\n",
    "plt.xlabel('Lotto Number')\n",
    "plt.ylabel('Count')\n",
    "plt.grid(axis='y')\n",
    "plt.show()"
   ]
  },
  {
   "cell_type": "markdown",
   "metadata": {},
   "source": [
    "### Just Display them in a Readable Format for Checking"
   ]
  },
  {
   "cell_type": "code",
   "execution_count": 30,
   "metadata": {},
   "outputs": [
    {
     "name": "stdout",
     "output_type": "stream",
     "text": [
      "Amount of Drawn per Number: Lottozahl\n",
      "6     650\n",
      "49    638\n",
      "32    624\n",
      "33    620\n",
      "31    619\n",
      "26    618\n",
      "11    617\n",
      "22    615\n",
      "43    613\n",
      "1     609\n",
      "3     609\n",
      "25    608\n",
      "38    607\n",
      "42    604\n",
      "19    604\n",
      "41    602\n",
      "7     598\n",
      "48    595\n",
      "4     594\n",
      "17    593\n",
      "36    592\n",
      "29    592\n",
      "10    591\n",
      "27    591\n",
      "2     589\n",
      "24    587\n",
      "5     587\n",
      "9     587\n",
      "47    586\n",
      "16    585\n",
      "40    584\n",
      "18    583\n",
      "37    582\n",
      "39    576\n",
      "44    571\n",
      "34    571\n",
      "35    566\n",
      "23    566\n",
      "46    562\n",
      "15    561\n",
      "20    561\n",
      "30    559\n",
      "14    558\n",
      "12    558\n",
      "28    551\n",
      "21    549\n",
      "8     547\n",
      "45    535\n",
      "13    524\n",
      "Name: count, dtype: int64\n"
     ]
    }
   ],
   "source": [
    "# Readable Format\n",
    "print(\"Amount of Drawn per Number:\", lotto_numbers_count)"
   ]
  },
  {
   "cell_type": "markdown",
   "metadata": {},
   "source": [
    "### For the Superzahl"
   ]
  },
  {
   "cell_type": "code",
   "execution_count": 31,
   "metadata": {},
   "outputs": [
    {
     "data": {
      "image/png": "[encoded data removed]",
      "text/plain": [
       "<Figure size 1000x600 with 1 Axes>"
      ]
     },
     "metadata": {},
     "output_type": "display_data"
    }
   ],
   "source": [
    "# Plot Superzahl counts\n",
    "plt.figure(figsize=(10, 6))\n",
    "superzahl_counts.plot(kind='bar', color='orange', alpha=0.7)\n",
    "plt.title('Number of Times Each Superzahl was Drawn')\n",
    "plt.xlabel('Superzahl')\n",
    "plt.ylabel('Count')\n",
    "plt.grid(axis='y')\n",
    "plt.show()"
   ]
  },
  {
   "cell_type": "code",
   "execution_count": 32,
   "metadata": {},
   "outputs": [
    {
     "name": "stdout",
     "output_type": "stream",
     "text": [
      "Superzahl drawn by Number: Superzahl\n",
      "7    322\n",
      "4    312\n",
      "5    308\n",
      "3    294\n",
      "6    292\n",
      "1    284\n",
      "0    284\n",
      "2    280\n",
      "9    269\n",
      "8    267\n",
      "Name: count, dtype: int64\n"
     ]
    }
   ],
   "source": [
    "# Readable Format\n",
    "print(\"Superzahl drawn by Number:\",superzahl_counts)"
   ]
  },
  {
   "cell_type": "markdown",
   "metadata": {},
   "source": [
    "# Predictions for the 1 Lottery Ticket Field!\n",
    "\n",
    "### DISCLAIMER:\n",
    "- This is a Fun Project to Showcase some IT Skills\n",
    "- Lottery is a total statistically Random Game\n",
    "- Do not use or let you inspire by this Prediction!\n",
    "- Gambling can make you addicted! Only Play with Caution!\n",
    "- I claim no rights, that my outputs would even be near the drawn Numbers\n",
    "\n",
    "### About the Predictions:\n",
    "- In Field 1 we go for the Most Frequent Numbers each Lottery Ticket we play\n",
    "- The Superzahl only appears once per Lottery Ticket - we will Take 7, 5 and 4 randomly for each Ticket\n",
    "- This is a common Lottery Strategy - even if you win with this Numbers, you would have to share the Prize Pool with many other People\n",
    "- We will do more complex Prediction Strategies in later Notebooks\n",
    "- This prediction will be the same for several Weeks till another number gets into Top 6"
   ]
  },
  {
   "cell_type": "code",
   "execution_count": 33,
   "metadata": {},
   "outputs": [
    {
     "name": "stdout",
     "output_type": "stream",
     "text": [
      "Your Lucky Numbers For Field 1(Frequency Analysis): 6, 49, 32, 33, 31, 26  Superzahl: 4\n"
     ]
    }
   ],
   "source": [
    "# Format the first 6 Numbers for better Output\n",
    "first_six_numbers = lotto_numbers_count.head(6)\n",
    "formatted_numbers = ', '.join(map(str, first_six_numbers.index))\n",
    "\n",
    "# Format the Output of the Superzahl\n",
    "superzahl_number = superzahl_counts.head(1)\n",
    "\n",
    "\n",
    "# Print your Lucky Numbers\n",
    "print(\"Your Lucky Numbers For Field 1(Frequency Analysis):\",formatted_numbers,\" Superzahl:\", np.random.choice([4,7,5]))"
   ]
  },
  {
   "cell_type": "markdown",
   "metadata": {},
   "source": [
    "## Optional - Store the Numbers for BONUS Notebook 8 in the End!!!"
   ]
  },
  {
   "cell_type": "code",
   "execution_count": 34,
   "metadata": {},
   "outputs": [],
   "source": [
    "# Store the List in a Pickle file\n",
    "\n",
    "with open(\"stored_predictions/hot_numbers.pickle\", \"wb\") as f:\n",
    "    pickle.dump(formatted_numbers, f)"
   ]
  }
 ],
 "metadata": {
  "kernelspec": {
   "display_name": ".venv",
   "language": "python",
   "name": "python3"
  },
  "language_info": {
   "codemirror_mode": {
    "name": "ipython",
    "version": 3
   },
   "file_extension": ".py",
   "mimetype": "text/x-python",
   "name": "python",
   "nbconvert_exporter": "python",
   "pygments_lexer": "ipython3",
   "version": "3.11.0rc2"
  }
 },
 "nbformat": 4,
 "nbformat_minor": 2
}
