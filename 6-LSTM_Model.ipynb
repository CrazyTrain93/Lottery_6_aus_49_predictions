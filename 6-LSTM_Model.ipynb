{
 "cells": [
  {
   "cell_type": "markdown",
   "metadata": {},
   "source": [
    "## 6. Prediction - Long-Short Term Memory Model"
   ]
  },
  {
   "cell_type": "markdown",
   "metadata": {},
   "source": [
    "### About this Method and the assumption we have behind it:\n",
    "- We assume the 6 Numbers which we did not see the longest time should be drawn in short future\n",
    "- We try our Luck and pick the 6 Numbers which we did not see the longest time\n",
    "\n",
    "### The Statistical Assumption behind this\n",
    "- In a perfect World with infinite Lottery Games all Numbers should always be drawn equally often at one point in time\n",
    "- We assume that it's on the time, that some of the longest not drawn numbers appear on the next drawings\n",
    "\n",
    "For this 3 Prediction we Take the 6 longest not Drawn Numbers\n"
   ]
  },
  {
   "cell_type": "code",
   "execution_count": 3,
   "metadata": {},
   "outputs": [],
   "source": [
    "# Import Libraries needed\n",
    "import pandas as pd\n",
    "import matplotlib.pyplot as plt\n",
    "import ast\n",
    "import numpy as np\n",
    "from sklearn.preprocessing import MinMaxScaler\n",
    "\n",
    "plt.style.use('https://github.com/dhaitz/matplotlib-stylesheets/raw/master/pitayasmoothie-dark.mplstyle')"
   ]
  },
  {
   "cell_type": "markdown",
   "metadata": {},
   "source": [
    "### Load the Data we Stored in the data Folder with Notebook 1"
   ]
  },
  {
   "cell_type": "code",
   "execution_count": 4,
   "metadata": {},
   "outputs": [],
   "source": [
    "\n",
    "# Load the CSV file into a DataFrame\n",
    "frequency_data = pd.read_csv(\"data/frequency_data.csv\")\n"
   ]
  },
  {
   "cell_type": "markdown",
   "metadata": {},
   "source": [
    "### Convert date from String to Datetime for Evaluation\n",
    "And further Data Processing for our needs"
   ]
  },
  {
   "cell_type": "code",
   "execution_count": 14,
   "metadata": {},
   "outputs": [
    {
     "data": {
      "text/html": [
       "<div>\n",
       "<style scoped>\n",
       "    .dataframe tbody tr th:only-of-type {\n",
       "        vertical-align: middle;\n",
       "    }\n",
       "\n",
       "    .dataframe tbody tr th {\n",
       "        vertical-align: top;\n",
       "    }\n",
       "\n",
       "    .dataframe thead th {\n",
       "        text-align: right;\n",
       "    }\n",
       "</style>\n",
       "<table border=\"1\" class=\"dataframe\">\n",
       "  <thead>\n",
       "    <tr style=\"text-align: right;\">\n",
       "      <th></th>\n",
       "      <th>Lottozahl_1</th>\n",
       "      <th>Lottozahl_2</th>\n",
       "      <th>Lottozahl_3</th>\n",
       "      <th>Lottozahl_4</th>\n",
       "      <th>Lottozahl_5</th>\n",
       "      <th>Lottozahl_6</th>\n",
       "      <th>day</th>\n",
       "      <th>month</th>\n",
       "      <th>year</th>\n",
       "    </tr>\n",
       "  </thead>\n",
       "  <tbody>\n",
       "    <tr>\n",
       "      <th>0</th>\n",
       "      <td>3</td>\n",
       "      <td>12</td>\n",
       "      <td>13</td>\n",
       "      <td>16</td>\n",
       "      <td>23</td>\n",
       "      <td>41</td>\n",
       "      <td>9</td>\n",
       "      <td>10</td>\n",
       "      <td>1955</td>\n",
       "    </tr>\n",
       "    <tr>\n",
       "      <th>1</th>\n",
       "      <td>3</td>\n",
       "      <td>12</td>\n",
       "      <td>18</td>\n",
       "      <td>30</td>\n",
       "      <td>32</td>\n",
       "      <td>49</td>\n",
       "      <td>16</td>\n",
       "      <td>10</td>\n",
       "      <td>1955</td>\n",
       "    </tr>\n",
       "    <tr>\n",
       "      <th>2</th>\n",
       "      <td>12</td>\n",
       "      <td>14</td>\n",
       "      <td>23</td>\n",
       "      <td>24</td>\n",
       "      <td>34</td>\n",
       "      <td>36</td>\n",
       "      <td>23</td>\n",
       "      <td>10</td>\n",
       "      <td>1955</td>\n",
       "    </tr>\n",
       "    <tr>\n",
       "      <th>3</th>\n",
       "      <td>4</td>\n",
       "      <td>13</td>\n",
       "      <td>23</td>\n",
       "      <td>30</td>\n",
       "      <td>36</td>\n",
       "      <td>44</td>\n",
       "      <td>30</td>\n",
       "      <td>10</td>\n",
       "      <td>1955</td>\n",
       "    </tr>\n",
       "    <tr>\n",
       "      <th>4</th>\n",
       "      <td>5</td>\n",
       "      <td>6</td>\n",
       "      <td>31</td>\n",
       "      <td>39</td>\n",
       "      <td>44</td>\n",
       "      <td>49</td>\n",
       "      <td>6</td>\n",
       "      <td>11</td>\n",
       "      <td>1955</td>\n",
       "    </tr>\n",
       "  </tbody>\n",
       "</table>\n",
       "</div>"
      ],
      "text/plain": [
       "   Lottozahl_1  Lottozahl_2  Lottozahl_3  Lottozahl_4  Lottozahl_5  \\\n",
       "0            3           12           13           16           23   \n",
       "1            3           12           18           30           32   \n",
       "2           12           14           23           24           34   \n",
       "3            4           13           23           30           36   \n",
       "4            5            6           31           39           44   \n",
       "\n",
       "   Lottozahl_6  day  month  year  \n",
       "0           41    9     10  1955  \n",
       "1           49   16     10  1955  \n",
       "2           36   23     10  1955  \n",
       "3           44   30     10  1955  \n",
       "4           49    6     11  1955  "
      ]
     },
     "execution_count": 14,
     "metadata": {},
     "output_type": "execute_result"
    }
   ],
   "source": [
    "# convert the string to datetime\n",
    "frequency_data[\"date\"] = pd.to_datetime(frequency_data[\"date\"], format='%d.%m.%Y')\n",
    "\n",
    "# Convert the Lottozahl column to a list of integers\n",
    "# frequency_data[\"Lottozahl\"] = frequency_data[\"Lottozahl\"].apply(lambda x: eval(x))\n",
    "\n",
    "# Expand the Lottozahl column into seperate columns\n",
    "df_expanded = pd.DataFrame(frequency_data[\"Lottozahl\"].tolist(), columns=['Lottozahl_1', 'Lottozahl_2', 'Lottozahl_3', 'Lottozahl_4', 'Lottozahl_5', 'Lottozahl_6'])\n",
    "\n",
    "# Create the final Dataframe\n",
    "df_final = pd.concat([frequency_data.drop(columns= \"Lottozahl\"), df_expanded], axis=1)\n",
    "\n",
    "\n",
    "# Cast the Date into own columns\n",
    "df_final[\"day\"] = df_final[\"date\"].dt.day\n",
    "df_final[\"month\"] = df_final[\"date\"].dt.month\n",
    "df_final[\"year\"] = df_final[\"date\"].dt.year\n",
    "\n",
    "# Drop the Superzahl Column (we only Predict the 6 Lotto Numbers)\n",
    "df_final.drop([\"Superzahl\", \"id\",\"date\"], axis=1, inplace=True)\n",
    "\n",
    "df_final.head()"
   ]
  },
  {
   "cell_type": "markdown",
   "metadata": {},
   "source": [
    "### Scale the Features for the LSTM Model \n",
    "- we will use a MinMax Scaler here and restrict the range from 0-1 due to we have only positive values"
   ]
  },
  {
   "cell_type": "code",
   "execution_count": 15,
   "metadata": {},
   "outputs": [],
   "source": [
    "scaler = MinMaxScaler(feature_range=(0,1))\n",
    "scaled_data = scaler.fit_transform(df_final)"
   ]
  },
  {
   "cell_type": "code",
   "execution_count": null,
   "metadata": {},
   "outputs": [],
   "source": []
  },
  {
   "cell_type": "markdown",
   "metadata": {},
   "source": [
    "# Predictions for the 3 Lottery Ticket Field!\n",
    "\n",
    "### DISCLAIMER:\n",
    "- This is a Fun Project to Showcase some IT Skills\n",
    "- Lottery is a total statistically Random Game\n",
    "- Do not use or let you inspire by this Prediction!\n",
    "- Gambling can make you addicted! Only Play with Caution!\n",
    "- I claim no rights, that my outputs would even be near the drawn value\n",
    "\n",
    "### About the Predictions:\n",
    "- In Field 3 we go for the longest Time no See Numbers each Lottery Ticket we play\n",
    "- The Superzahl only appears once per Lottery Ticket - we will take Random 7 or 4 for each Lottery Ticket\n",
    "- This is a common Lottery Strategy - even if you win with this Numbers, you would have to share the Prize Pool with many other People\n",
    "- We will do more complex Prediction Strategies in later Notebooks\n",
    "- This Prediction will vary more from Week to Week than the first 2, because when a Number gets drawn it refreshes its date and will not show up here for a longer time"
   ]
  },
  {
   "cell_type": "code",
   "execution_count": 6,
   "metadata": {},
   "outputs": [
    {
     "name": "stdout",
     "output_type": "stream",
     "text": [
      "Your Lucky Numbers For Field 3 (Longest Time not Drawn): 12, 14, 15, 46, 30, 22  Superzahl: 7\n"
     ]
    }
   ],
   "source": [
    "# Format the first 6 Numbers for better Output\n",
    "formatted_numbers = \", \".join(map(str, least_recently_drawn.index))\n",
    "\n",
    "\n",
    "\n",
    "# Print your Lucky Numbers\n",
    "print(\"Your Lucky Numbers For Field 3 (Longest Time not Drawn):\",formatted_numbers,\" Superzahl:\", np.random.choice([4,7]))"
   ]
  }
 ],
 "metadata": {
  "kernelspec": {
   "display_name": ".venv",
   "language": "python",
   "name": "python3"
  },
  "language_info": {
   "codemirror_mode": {
    "name": "ipython",
    "version": 3
   },
   "file_extension": ".py",
   "mimetype": "text/x-python",
   "name": "python",
   "nbconvert_exporter": "python",
   "pygments_lexer": "ipython3",
   "version": "3.11.0rc2"
  }
 },
 "nbformat": 4,
 "nbformat_minor": 2
}
