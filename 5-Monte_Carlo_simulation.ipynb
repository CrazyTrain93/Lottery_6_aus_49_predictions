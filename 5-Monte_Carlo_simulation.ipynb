{
 "cells": [
  {
   "cell_type": "markdown",
   "metadata": {},
   "source": [
    "# 4. Prediction - Monte Carlo Simulation (Cross Validation :-)  ) "
   ]
  },
  {
   "cell_type": "markdown",
   "metadata": {},
   "source": [
    "## Here we let 2 Monte Carlo Simulations draw 6 Numbers each and let them do this so long till both Draws Match all 6 Numbers\n",
    "\n",
    "This makes no Sense at all and Adds more Random to the Number which were drawn. But i think it's a funny way to let it generate my total Random Prediction Field\n",
    "which underlies no Sense at all\n",
    "\n",
    "### About the Monte Carlo Simulation\n",
    "This code is Simulating the drawing of the 6 aus 49 Lottozahlen without the Superzahl!!!\n",
    "\n",
    "We just let 2 Simulations run against each other and Check if all 6 Numbers are the same after each round of drawing\n",
    "\n",
    "If both Numbers math on all 6 Positions, we take them as our Random guess for 1 Lottery field \n",
    "\n",
    "Hint: Bonus Notebook 8 uses this Concept as a fun way to validate our other 6 predictions ;)\n",
    "\n",
    "And! We could never know, how long the Code will run till 2 Matching Predictions were found. So be patient when predicting with this Method ( in my test runs it never took longer than 6 Minutes and mostly under 10.000.000 Simulations. Not even near 140 Mio. trys like they say in the commercial Chance 1:140.000.000) \n",
    "\n",
    "If you observe other behaviour here feel free to let me know :)"
   ]
  },
  {
   "cell_type": "markdown",
   "metadata": {},
   "source": [
    "###"
   ]
  },
  {
   "cell_type": "code",
   "execution_count": 5,
   "metadata": {},
   "outputs": [],
   "source": [
    "# import libraries\n",
    "import random\n",
    "import numpy as np\n",
    "import pickle"
   ]
  },
  {
   "cell_type": "markdown",
   "metadata": {},
   "source": [
    "### Define some Functions to do the Prediction"
   ]
  },
  {
   "cell_type": "code",
   "execution_count": 6,
   "metadata": {},
   "outputs": [],
   "source": [
    "\n",
    "\n",
    "# draw numbers function draws us random 6 Numbers in range from 0-49\n",
    "\n",
    "def draw_numbers():\n",
    "    return random.sample(range(1,50),6)\n",
    "\n",
    "\n",
    "# Function Customized for our Needs of the Monte Carlo Function\n",
    "\n",
    "def monte_carlo_simulation():\n",
    "    anzahl_simulationen = 0\n",
    "    while True: # only exits when the return statement is reached\n",
    "        anzahl_simulationen += 1 # increase for each iteration\n",
    "        ziehung1 = draw_numbers()\n",
    "        ziehung2 = draw_numbers()\n",
    "\n",
    "        if set(ziehung1) == set(ziehung2): # Set orders Numbers and if all 6 are equal we print the predictions\n",
    "            print(f\"Es waren {anzahl_simulationen:,} Simulationen notwendig um die Predictions {ziehung1} zu generieren. Viel Erfolg!\") # Print out how often we Simulated Numbers\n",
    "            print(\"Your Lucky Numbers For Field 4 (Monte Carlo Random):\",ziehung1,\" Superzahl:\", np.random.choice([4,7,5]))\n",
    "            return ziehung1"
   ]
  },
  {
   "cell_type": "markdown",
   "metadata": {},
   "source": [
    "### Make our Monte Carlo Simulation Predictions for Field 4 (Monte Carlo Random)"
   ]
  },
  {
   "cell_type": "code",
   "execution_count": 7,
   "metadata": {},
   "outputs": [
    {
     "name": "stdout",
     "output_type": "stream",
     "text": [
      "Es waren 2,209,762 Simulationen notwendig um die Predictions [44, 38, 20, 37, 24, 22] zu generieren. Viel Erfolg!\n",
      "Your Lucky Numbers For Field 4 (Monte Carlo Random): [44, 38, 20, 37, 24, 22]  Superzahl: 5\n"
     ]
    }
   ],
   "source": [
    "ziehung1 = monte_carlo_simulation()"
   ]
  },
  {
   "cell_type": "markdown",
   "metadata": {},
   "source": [
    "### Well this was a Short Notebook! But the Code runs the longest of all. We achieved our Prediction for the 4 Field we want to play\n",
    "\n",
    "Monte Carlo Simulation is a statistical Method where you Simulate Random Examples of Combinations or Numbers and you can Validate how much hit your Numbers would have had if the game was Simulated a certain amount of Time.\n",
    "\n",
    "If you want to know more about this, feel free to visit: https://www.ibm.com/topics/monte-carlo-simulation#:~:text=One%20simple%20example%20of%20a,probability%20of%20a%20particular%20outcome."
   ]
  },
  {
   "cell_type": "markdown",
   "metadata": {},
   "source": [
    "## Optional - Store the Numbers for BONUS Notebook 8 in the End!!!"
   ]
  },
  {
   "cell_type": "code",
   "execution_count": 8,
   "metadata": {},
   "outputs": [],
   "source": [
    "# Store the List in a Pickle file\n",
    "\n",
    "with open(\"stored_predictions/monte_carlo.pickle\", \"wb\") as f:\n",
    "    pickle.dump(ziehung1, f)"
   ]
  }
 ],
 "metadata": {
  "kernelspec": {
   "display_name": ".venv",
   "language": "python",
   "name": "python3"
  },
  "language_info": {
   "codemirror_mode": {
    "name": "ipython",
    "version": 3
   },
   "file_extension": ".py",
   "mimetype": "text/x-python",
   "name": "python",
   "nbconvert_exporter": "python",
   "pygments_lexer": "ipython3",
   "version": "3.11.0rc2"
  }
 },
 "nbformat": 4,
 "nbformat_minor": 2
}
